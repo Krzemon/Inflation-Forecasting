{
  "nbformat": 4,
  "nbformat_minor": 0,
  "metadata": {
    "colab": {
      "provenance": []
    },
    "kernelspec": {
      "name": "python3",
      "display_name": "Python 3"
    },
    "language_info": {
      "name": "python"
    }
  },
  "cells": [
    {
      "cell_type": "code",
      "execution_count": 57,
      "metadata": {
        "id": "bZJQN6R3bbDP"
      },
      "outputs": [],
      "source": [
        "import numpy as np\n",
        "import pandas as pd\n",
        "from sklearn.model_selection import train_test_split"
      ]
    },
    {
      "cell_type": "code",
      "source": [
        "# zapobieganie wypisywania notacji naukowej przez numpy\n",
        "np.set_printoptions(suppress=True)"
      ],
      "metadata": {
        "id": "1w36bvOBBl_A"
      },
      "execution_count": 58,
      "outputs": []
    },
    {
      "cell_type": "markdown",
      "source": [
        "https://stat.gov.pl/obszary-tematyczne/ceny-handel/wskazniki-cen/wskazniki-cen-towarow-i-uslug-konsumpcyjnych-pot-inflacja-/miesieczne-wskazniki-cen-towarow-i-uslug-konsumpcyjnych-od-1982-roku/"
      ],
      "metadata": {
        "id": "IfPSxhWMcVpm"
      }
    },
    {
      "cell_type": "markdown",
      "source": [
        "### Załadowanie pliku"
      ],
      "metadata": {
        "id": "TWFlXNSM5mhy"
      }
    },
    {
      "cell_type": "code",
      "source": [
        "### Załadowanie dysku\n",
        "from google.colab import drive\n",
        "drive.mount('/content/drive')"
      ],
      "metadata": {
        "colab": {
          "base_uri": "https://localhost:8080/"
        },
        "id": "M_3ef9G9cWGr",
        "outputId": "2d112f1c-6567-446b-cba8-6a93e981701c"
      },
      "execution_count": 2,
      "outputs": [
        {
          "output_type": "stream",
          "name": "stdout",
          "text": [
            "Mounted at /content/drive\n"
          ]
        }
      ]
    },
    {
      "cell_type": "code",
      "source": [
        "data_file_path = \"/content/drive/My Drive/Colab Notebooks/miesieczne_wskazniki_cen_towarow_i_uslug_konsumpcyjnych_od_1982_roku.xlsx\"\n",
        "try:\n",
        "  df = pd.read_excel(data_file_path)\n",
        "  if \"Sposób prezentacji\" in df.columns:\n",
        "      # Filtrowanie danych\n",
        "      df_poprzedni_miesiac_100 = df[df[\"Sposób prezentacji\"] == \"Poprzedni miesiąc = 100\"].copy()\n",
        "\n",
        "      print(\"Wczytano dane i przefiltrowano według 'Sposób prezentacji' = 'Poprzedni miesiąc=100'.\")\n",
        "  else:\n",
        "      print(\"Kolumna 'Sposób prezentacji' nie została znaleziona w pliku Excel.\")\n",
        "except FileNotFoundError:\n",
        "    print(f\"Błąd: Plik nie znaleziony pod ścieżką {data_file_path}\")\n",
        "except Exception as e:\n",
        "    print(f\"Wystąpił błąd podczas wczytywania pliku: {e}\")"
      ],
      "metadata": {
        "id": "flwuB9BMn-aO",
        "colab": {
          "base_uri": "https://localhost:8080/"
        },
        "outputId": "9e3d9a2d-58b6-4b05-ee8f-935ef7cb32d2"
      },
      "execution_count": 59,
      "outputs": [
        {
          "output_type": "stream",
          "name": "stdout",
          "text": [
            "Wczytano dane i przefiltrowano według 'Sposób prezentacji' = 'Poprzedni miesiąc=100'.\n"
          ]
        }
      ]
    },
    {
      "cell_type": "markdown",
      "source": [
        "### Filtracja danych"
      ],
      "metadata": {
        "id": "VhgLC8fM5ilM"
      }
    },
    {
      "cell_type": "code",
      "source": [
        "# TODO: sprawdz co oznacza Flaga 'a' w roku 2000 i 2001\n",
        "#df_poprzedni_miesiac_100[[\"Sposób prezentacji\", \"Rok\", \"Miesiąc\", \"Wartość\", \"Flaga\"]]\n",
        "data = df_poprzedni_miesiac_100[[\"Rok\", \"Miesiąc\", \"Wartość\"]]\n",
        "# pozbywamy się wierszy z wartościami NaN, występujące w roku 2025\n",
        "data = data.dropna(subset=[\"Wartość\"])\n",
        "data = data.sort_values(by=['Rok','Miesiąc'], ascending=[1,1])\n",
        "\n",
        "data_array = data.to_numpy()\n",
        "# print(data.head(20))"
      ],
      "metadata": {
        "id": "7rfqwWZveh22"
      },
      "execution_count": 60,
      "outputs": []
    },
    {
      "cell_type": "markdown",
      "source": [
        "Mając różnice pomiędzy następnymi miesiącami, usuwamy oulinery, które pokazują dużą różnicę inflacji."
      ],
      "metadata": {
        "id": "TsRMW7l19cTe"
      }
    },
    {
      "cell_type": "code",
      "source": [
        "# średnia arytmetyczna\n",
        "mean = np.mean(data_array[:, 2:3], axis=0)\n",
        "# odchylenie standardowe\n",
        "sd = np.std(data_array[:, 2:3], axis=0)\n",
        "top_limit = mean + 3 * sd\n",
        "bottom_limit = mean - 3 * sd\n",
        "\n",
        "# wypiszmy dane, które zostaną usunięte (oulinery)\n",
        "for row in data_array:\n",
        "  if (row[2] <= bottom_limit) or (row[2] >= top_limit):\n",
        "    print(row)\n",
        "\n",
        "data_array_filtered = [row for row in data_array if (row[2] > bottom_limit)]\n",
        "data_array_filtered = [row for row in data_array_filtered if (row[2] < top_limit)]"
      ],
      "metadata": {
        "colab": {
          "base_uri": "https://localhost:8080/"
        },
        "id": "aKEH2cnO5qxl",
        "outputId": "1e4d6166-a447-4485-c382-e1d6a4807461"
      },
      "execution_count": 61,
      "outputs": [
        {
          "output_type": "stream",
          "name": "stdout",
          "text": [
            "[1982.     2.   136.3]\n",
            "[1989.     8.   139.5]\n",
            "[1989.     9.   134.4]\n",
            "[1989.    10.   154.8]\n",
            "[1989.    11.   122.4]\n",
            "[1990.     1.   179.6]\n",
            "[1990.     2.   123.8]\n"
          ]
        }
      ]
    },
    {
      "cell_type": "markdown",
      "source": [
        "### Konwersja danych"
      ],
      "metadata": {
        "id": "i5cMsVxO5pAv"
      }
    },
    {
      "cell_type": "markdown",
      "source": [
        "inclacja - gdy \"Wartość\" > 100\n",
        "\n",
        "deflacja - gdy \"Wartość\" < 100"
      ],
      "metadata": {
        "id": "86QEzXEPA6qE"
      }
    },
    {
      "cell_type": "code",
      "source": [
        "# kolumna 0, rok\n",
        "# kolumna 1, miesiąc\n",
        "# kolumna 2, wartość względem grudnia 1981\n",
        "data_len = len(data)\n",
        "data_absolute_inflation = np.zeros((len(data), 3))\n",
        "absolute_result = 1.0\n",
        "idx = 0\n",
        "for row in data_array:\n",
        "  absolute_result = absolute_result + absolute_result * ((float(row[2])-100.0) / 100.0)\n",
        "  data_absolute_inflation[idx] = [int(row[0]), int(row[1]), absolute_result]\n",
        "  idx += 1\n",
        "print(data_absolute_inflation)"
      ],
      "metadata": {
        "id": "gF4k3Kbmv2QI",
        "colab": {
          "base_uri": "https://localhost:8080/"
        },
        "outputId": "c01478fb-a988-4803-fe83-adf382e5e82b"
      },
      "execution_count": 62,
      "outputs": [
        {
          "output_type": "stream",
          "name": "stdout",
          "text": [
            "[[1982.            1.            1.066     ]\n",
            " [1982.            2.            1.452958  ]\n",
            " [1982.            3.            1.53722956]\n",
            " ...\n",
            " [2025.            2.         3590.96204085]\n",
            " [2025.            3.         3598.14396493]\n",
            " [2025.            4.         3612.53654079]]\n"
          ]
        }
      ]
    },
    {
      "cell_type": "markdown",
      "source": [
        "Wydaje mi się, że lepiej będzie można wykorzystać dane data_absolute_date_inflation, ponieważ tam mamy jedną kolumnę określającą czas, ale nie jestem pewien."
      ],
      "metadata": {
        "id": "TGqS93eam9aJ"
      }
    },
    {
      "cell_type": "code",
      "source": [
        "# kolumna 0, ilość miesięcy od grudnia 1982 (1 = dla styczeń 1982, 2 dla luty 1982, ..., 13 dla styczeń 1983, itd.)\n",
        "# kolumna 1, wartość względem grudnia 1981\n",
        "data_len = len(data)\n",
        "data_absolute_date_inflation = np.zeros((len(data), 2))\n",
        "absolute_result = 1.0\n",
        "idx = 0\n",
        "for row in data_array:\n",
        "  absolute_result = absolute_result + absolute_result * ((float(row[2])-100.0) / 100.0)\n",
        "  data_absolute_date_inflation[idx] = [(int(row[0])-1982)*12 + int(row[1]), absolute_result]\n",
        "  idx += 1\n",
        "print(data_absolute_date_inflation)"
      ],
      "metadata": {
        "colab": {
          "base_uri": "https://localhost:8080/"
        },
        "id": "MXmn4JbNyxdH",
        "outputId": "17965b54-5505-4d97-8537-2bce12da6d72"
      },
      "execution_count": 63,
      "outputs": [
        {
          "output_type": "stream",
          "name": "stdout",
          "text": [
            "[[   1.            1.066     ]\n",
            " [   2.            1.452958  ]\n",
            " [   3.            1.53722956]\n",
            " ...\n",
            " [ 518.         3590.96204085]\n",
            " [ 519.         3598.14396493]\n",
            " [ 520.         3612.53654079]]\n"
          ]
        }
      ]
    },
    {
      "cell_type": "markdown",
      "source": [
        "### Podział danych na uczące i testujące"
      ],
      "metadata": {
        "id": "7CnPmsQsmWt7"
      }
    },
    {
      "cell_type": "code",
      "source": [
        "## losowy podział danych\n",
        "# X = data_absolute_inflation[:, 0:2] # daty\n",
        "# y = data_absolute_inflation[:, 2]   # inflacja\n",
        "# X_train, X_test, y_train, y_test = train_test_split(X, y, test_size=0.33, random_state=42)"
      ],
      "metadata": {
        "id": "gWsHa5jFxbAh"
      },
      "execution_count": 64,
      "outputs": []
    },
    {
      "cell_type": "markdown",
      "source": [
        "Podział danych na 80% danych uczących, tj. od styczeń 1882 do września 2016 roku.\n",
        "\n",
        "Nie ma sensu chyba brać innego podziału danych,"
      ],
      "metadata": {
        "id": "kewiPaspnSuQ"
      }
    },
    {
      "cell_type": "code",
      "source": [
        "procent_danych_testowych = 0.8\n",
        "\n",
        "X = data_absolute_inflation[:, 0:2] # daty\n",
        "y = data_absolute_inflation[:, 2]   # inflacja\n",
        "x_len = int(len(X) * procent_danych_testowych)\n",
        "y_len = int(len(y) * procent_danych_testowych)\n",
        "X_train = X[:x_len]\n",
        "X_test = X[x_len:]\n",
        "y_train = y[:y_len]\n",
        "y_test = y[y_len:]\n",
        "print(f\"Przedział dat danych trenujących: 0{int(X_train[0][1])}.{int(X_train[0][0])} - 0{int(X_train[-1][1])}.{int(X_train[-1][0])}\")\n",
        "print(f\"Przedział dat danych testowych:   0{int(X_test[0][1])}.{int(X_test[0][0])} - 0{int(X_test[-1][1])}.{int(X_test[-1][0])}\")"
      ],
      "metadata": {
        "colab": {
          "base_uri": "https://localhost:8080/"
        },
        "id": "m_WvadcUmZxa",
        "outputId": "2cdbb1a4-ef2e-481f-ec7b-0f3e5bd749d1"
      },
      "execution_count": 86,
      "outputs": [
        {
          "output_type": "stream",
          "name": "stdout",
          "text": [
            "Przedział dat danych trenujących: 01.1982 - 08.2016\n",
            "Przedział dat danych testowych:   09.2016 - 04.2025\n"
          ]
        }
      ]
    }
  ]
}