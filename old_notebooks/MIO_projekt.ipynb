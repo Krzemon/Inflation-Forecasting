{
  "nbformat": 4,
  "nbformat_minor": 0,
  "metadata": {
    "colab": {
      "provenance": []
    },
    "kernelspec": {
      "name": "python3",
      "display_name": "Python 3"
    },
    "language_info": {
      "name": "python"
    }
  },
  "cells": [
    {
      "cell_type": "code",
      "execution_count": 1,
      "metadata": {
        "id": "bZJQN6R3bbDP"
      },
      "outputs": [],
      "source": [
        "import numpy as np\n",
        "import pandas as pd\n",
        "from sklearn.model_selection import train_test_split"
      ]
    },
    {
      "cell_type": "code",
      "source": [
        "# zapobieganie wypisywania notacji naukowej przez numpy\n",
        "np.set_printoptions(suppress=True)"
      ],
      "metadata": {
        "id": "1w36bvOBBl_A"
      },
      "execution_count": 2,
      "outputs": []
    },
    {
      "cell_type": "markdown",
      "source": [
        "https://stat.gov.pl/obszary-tematyczne/ceny-handel/wskazniki-cen/wskazniki-cen-towarow-i-uslug-konsumpcyjnych-pot-inflacja-/miesieczne-wskazniki-cen-towarow-i-uslug-konsumpcyjnych-od-1982-roku/"
      ],
      "metadata": {
        "id": "IfPSxhWMcVpm"
      }
    },
    {
      "cell_type": "markdown",
      "source": [
        "# Zbieranie i przygotowanie danych"
      ],
      "metadata": {
        "id": "pUUT6f3hL2Zv"
      }
    },
    {
      "cell_type": "markdown",
      "source": [
        "### Załadowanie pliku"
      ],
      "metadata": {
        "id": "TWFlXNSM5mhy"
      }
    },
    {
      "cell_type": "code",
      "source": [
        "### Załadowanie dysku\n",
        "from google.colab import drive\n",
        "drive.mount('/content/drive')"
      ],
      "metadata": {
        "colab": {
          "base_uri": "https://localhost:8080/"
        },
        "id": "M_3ef9G9cWGr",
        "outputId": "16feb1e3-a6d2-495c-bf25-c8c8df649a51"
      },
      "execution_count": 3,
      "outputs": [
        {
          "output_type": "stream",
          "name": "stdout",
          "text": [
            "Mounted at /content/drive\n"
          ]
        }
      ]
    },
    {
      "cell_type": "code",
      "source": [
        "data_file_path = \"/content/drive/My Drive/Colab Notebooks/miesieczne_wskazniki_cen_towarow_i_uslug_konsumpcyjnych_od_1982_roku.xlsx\"\n",
        "try:\n",
        "  df = pd.read_excel(data_file_path)\n",
        "  if \"Sposób prezentacji\" in df.columns:\n",
        "      # Filtrowanie danych\n",
        "      df_poprzedni_miesiac_100 = df[df[\"Sposób prezentacji\"] == \"Poprzedni miesiąc = 100\"].copy()\n",
        "\n",
        "      print(\"Wczytano dane i przefiltrowano według 'Sposób prezentacji' = 'Poprzedni miesiąc=100'.\")\n",
        "  else:\n",
        "      print(\"Kolumna 'Sposób prezentacji' nie została znaleziona w pliku Excel.\")\n",
        "except FileNotFoundError:\n",
        "    print(f\"Błąd: Plik nie znaleziony pod ścieżką {data_file_path}\")\n",
        "except Exception as e:\n",
        "    print(f\"Wystąpił błąd podczas wczytywania pliku: {e}\")"
      ],
      "metadata": {
        "id": "flwuB9BMn-aO",
        "colab": {
          "base_uri": "https://localhost:8080/"
        },
        "outputId": "8fc51f1c-b17a-45ce-f138-29664158e754"
      },
      "execution_count": 4,
      "outputs": [
        {
          "output_type": "stream",
          "name": "stdout",
          "text": [
            "Wczytano dane i przefiltrowano według 'Sposób prezentacji' = 'Poprzedni miesiąc=100'.\n"
          ]
        }
      ]
    },
    {
      "cell_type": "markdown",
      "source": [
        "### Filtracja danych"
      ],
      "metadata": {
        "id": "VhgLC8fM5ilM"
      }
    },
    {
      "cell_type": "code",
      "source": [
        "# TODO: sprawdz co oznacza Flaga 'a' w roku 2000 i 2001\n",
        "#df_poprzedni_miesiac_100[[\"Sposób prezentacji\", \"Rok\", \"Miesiąc\", \"Wartość\", \"Flaga\"]]\n",
        "data = df_poprzedni_miesiac_100[[\"Rok\", \"Miesiąc\", \"Wartość\"]]\n",
        "# pozbywamy się wierszy z wartościami NaN, występujące w roku 2025\n",
        "data = data.dropna(subset=[\"Wartość\"])\n",
        "data = data.sort_values(by=['Rok','Miesiąc'], ascending=[1,1])\n",
        "\n",
        "data_array = data.to_numpy()\n",
        "# print(data.head(20))"
      ],
      "metadata": {
        "id": "7rfqwWZveh22"
      },
      "execution_count": 5,
      "outputs": []
    },
    {
      "cell_type": "markdown",
      "source": [
        "Mając różnice pomiędzy następnymi miesiącami, usuwamy oulinery, które pokazują dużą różnicę inflacji."
      ],
      "metadata": {
        "id": "TsRMW7l19cTe"
      }
    },
    {
      "cell_type": "code",
      "source": [
        "# średnia arytmetyczna\n",
        "mean = np.mean(data_array[:, 2:3], axis=0)\n",
        "# odchylenie standardowe\n",
        "sd = np.std(data_array[:, 2:3], axis=0)\n",
        "top_limit = mean + 3 * sd\n",
        "bottom_limit = mean - 3 * sd\n",
        "\n",
        "# wypiszmy dane, które zostaną usunięte (oulinery)\n",
        "for row in data_array:\n",
        "  if (row[2] <= bottom_limit) or (row[2] >= top_limit):\n",
        "    print(row)\n",
        "\n",
        "data_array_filtered = [row for row in data_array if (row[2] > bottom_limit)]\n",
        "data_array_filtered = [row for row in data_array_filtered if (row[2] < top_limit)]"
      ],
      "metadata": {
        "colab": {
          "base_uri": "https://localhost:8080/"
        },
        "id": "aKEH2cnO5qxl",
        "outputId": "e800afa6-ea30-45aa-8907-482f6ad98fbe"
      },
      "execution_count": 6,
      "outputs": [
        {
          "output_type": "stream",
          "name": "stdout",
          "text": [
            "[1982.     2.   136.3]\n",
            "[1989.     8.   139.5]\n",
            "[1989.     9.   134.4]\n",
            "[1989.    10.   154.8]\n",
            "[1989.    11.   122.4]\n",
            "[1990.     1.   179.6]\n",
            "[1990.     2.   123.8]\n"
          ]
        }
      ]
    },
    {
      "cell_type": "markdown",
      "source": [
        "### Konwersja danych"
      ],
      "metadata": {
        "id": "i5cMsVxO5pAv"
      }
    },
    {
      "cell_type": "markdown",
      "source": [
        "inclacja - gdy \"Wartość\" > 100\n",
        "\n",
        "deflacja - gdy \"Wartość\" < 100"
      ],
      "metadata": {
        "id": "86QEzXEPA6qE"
      }
    },
    {
      "cell_type": "code",
      "source": [
        "# kolumna 0, rok\n",
        "# kolumna 1, miesiąc\n",
        "# kolumna 2, wartość względem grudnia 1981\n",
        "data_len = len(data)\n",
        "data_absolute_inflation = np.zeros((len(data), 3))\n",
        "absolute_result = 1.0\n",
        "idx = 0\n",
        "for row in data_array:\n",
        "  absolute_result = absolute_result + absolute_result * ((float(row[2])-100.0) / 100.0)\n",
        "  data_absolute_inflation[idx] = [int(row[0]), int(row[1]), absolute_result]\n",
        "  idx += 1\n",
        "print(data_absolute_inflation)"
      ],
      "metadata": {
        "id": "gF4k3Kbmv2QI",
        "colab": {
          "base_uri": "https://localhost:8080/"
        },
        "outputId": "1997727c-385f-4eaf-dd89-9ee8fb0def2b"
      },
      "execution_count": 7,
      "outputs": [
        {
          "output_type": "stream",
          "name": "stdout",
          "text": [
            "[[1982.            1.            1.066     ]\n",
            " [1982.            2.            1.452958  ]\n",
            " [1982.            3.            1.53722956]\n",
            " ...\n",
            " [2025.            2.         3590.96204085]\n",
            " [2025.            3.         3598.14396493]\n",
            " [2025.            4.         3612.53654079]]\n"
          ]
        }
      ]
    },
    {
      "cell_type": "markdown",
      "source": [
        "Wydaje mi się, że lepiej będzie można wykorzystać dane data_absolute_date_inflation, ponieważ tam mamy jedną kolumnę określającą czas, ale nie jestem pewien."
      ],
      "metadata": {
        "id": "TGqS93eam9aJ"
      }
    },
    {
      "cell_type": "code",
      "source": [
        "# kolumna 0, ilość miesięcy od grudnia 1982 (1 = dla styczeń 1982, 2 dla luty 1982, ..., 13 dla styczeń 1983, itd.)\n",
        "# kolumna 1, wartość względem grudnia 1981\n",
        "data_len = len(data)\n",
        "data_absolute_date_inflation = np.zeros((len(data), 2))\n",
        "absolute_result = 1.0\n",
        "idx = 0\n",
        "for row in data_array:\n",
        "  absolute_result = absolute_result + absolute_result * ((float(row[2])-100.0) / 100.0)\n",
        "  data_absolute_date_inflation[idx] = [(int(row[0])-1982)*12 + int(row[1]), absolute_result]\n",
        "  idx += 1\n",
        "print(data_absolute_date_inflation)"
      ],
      "metadata": {
        "colab": {
          "base_uri": "https://localhost:8080/"
        },
        "id": "MXmn4JbNyxdH",
        "outputId": "84402686-ddd5-4226-fd11-ffeca2ca2cbb"
      },
      "execution_count": 8,
      "outputs": [
        {
          "output_type": "stream",
          "name": "stdout",
          "text": [
            "[[   1.            1.066     ]\n",
            " [   2.            1.452958  ]\n",
            " [   3.            1.53722956]\n",
            " ...\n",
            " [ 518.         3590.96204085]\n",
            " [ 519.         3598.14396493]\n",
            " [ 520.         3612.53654079]]\n"
          ]
        }
      ]
    },
    {
      "cell_type": "code",
      "source": [
        "# Zaczynając od podanego miesiąca, zwraca dane z poprzednich miesięcy w postaci:\n",
        "# [ostatnie miesiące], [ich inflacje]\n",
        "def getData_of_last_months(month, number_of_months):\n",
        "  if month - number_of_months <= 0:\n",
        "    raise Exception(\"Nie można pobrać danych przed 1982 rokiem. Podaj późniejszy miesiąc, lub zmniejsz ilość miesięcy, którą chcesz pobrać.\")\n",
        "    return\n",
        "  months = np.zeros((number_of_months, 1))\n",
        "  inflation = np.zeros((number_of_months, 1))\n",
        "  for i in range(number_of_months):\n",
        "    months[i] = (month - number_of_months) + i - 1\n",
        "    inflation[i] = data_array_filtered[(month - number_of_months) + i - 1][2]\n",
        "  return months, inflation\n",
        "\n",
        "# Zaczynając od podanego miesiąca, zwraca dane z poprzednich miesięcy w postaci:\n",
        "# [ostatnie miesiące], [ich inflacje]\n",
        "def getInflation_of_last_months(month, number_of_months):\n",
        "  if month - number_of_months <= 0:\n",
        "    raise Exception(\"Nie można pobrać danych przed 1982 rokiem. Podaj późniejszy miesiąc, lub zmniejsz ilość miesięcy, którą chcesz pobrać.\")\n",
        "    return\n",
        "  inflation = np.zeros((number_of_months, 1))\n",
        "  for i in range(number_of_months):\n",
        "    inflation[i] = data_array_filtered[(month - number_of_months) + i - 1][2]\n",
        "  return inflation\n"
      ],
      "metadata": {
        "id": "IPni48u7Ps3n"
      },
      "execution_count": 40,
      "outputs": []
    },
    {
      "cell_type": "markdown",
      "source": [
        "### Podział danych na uczące i testujące"
      ],
      "metadata": {
        "id": "7CnPmsQsmWt7"
      }
    },
    {
      "cell_type": "code",
      "source": [
        "## losowy podział danych\n",
        "# X = data_absolute_inflation[:, 0:2] # daty\n",
        "# y = data_absolute_inflation[:, 2]   # inflacja\n",
        "# X_train, X_test, y_train, y_test = train_test_split(X, y, test_size=0.33, random_state=42)"
      ],
      "metadata": {
        "id": "gWsHa5jFxbAh"
      },
      "execution_count": 9,
      "outputs": []
    },
    {
      "cell_type": "markdown",
      "source": [
        "Podział danych na 80% danych uczących, tj. od styczeń 1882 do września 2016 roku."
      ],
      "metadata": {
        "id": "kewiPaspnSuQ"
      }
    },
    {
      "cell_type": "code",
      "source": [
        "# procent_danych_testowych = 0.8\n",
        "\n",
        "# X = data_absolute_inflation[:, 0:2] # daty\n",
        "# y = data_absolute_inflation[:, 2]   # inflacja\n",
        "# x_len = int(len(X) * procent_danych_testowych)\n",
        "# y_len = int(len(y) * procent_danych_testowych)\n",
        "# X_train = X[:x_len]\n",
        "# X_test = X[x_len:]\n",
        "# y_train = y[:y_len]\n",
        "# y_test = y[y_len:]\n",
        "# print(f\"Przedział dat danych trenujących: 0{int(X_train[0][1])}.{int(X_train[0][0])} - 0{int(X_train[-1][1])}.{int(X_train[-1][0])}\")\n",
        "# print(f\"Przedział dat danych testowych:   0{int(X_test[0][1])}.{int(X_test[0][0])} - 0{int(X_test[-1][1])}.{int(X_test[-1][0])}\")"
      ],
      "metadata": {
        "colab": {
          "base_uri": "https://localhost:8080/"
        },
        "id": "m_WvadcUmZxa",
        "outputId": "636c14ce-bdc8-4fad-92fe-96011ec4435d"
      },
      "execution_count": 10,
      "outputs": [
        {
          "output_type": "stream",
          "name": "stdout",
          "text": [
            "Przedział dat danych trenujących: 01.1982 - 08.2016\n",
            "Przedział dat danych testowych:   09.2016 - 04.2025\n"
          ]
        }
      ]
    },
    {
      "cell_type": "code",
      "source": [
        "PROCENT_DANYCH_UCZACYCH = 0.8\n",
        "ILOSC_DNI_POPRZEDNICH = 11\n",
        "X, y = [], []\n",
        "for i in range(ILOSC_DNI_POPRZEDNICH+2, len(data_array_filtered)):\n",
        "  X.append(getInflation_of_last_months(i-1, ILOSC_DNI_POPRZEDNICH).flatten())\n",
        "  y.append(data_array_filtered[i][2])\n",
        "X = np.array(X) # inflacje w poprzednich miesiącach, np. [inflacja_styczen, inflacja_luty]\n",
        "y = np.array(y) # inflacja w aktualnym miesiącu      np. [inflacja_marzec]\n",
        "\n",
        "x_len = int(len(X) * PROCENT_DANYCH_UCZACYCH)\n",
        "y_len = int(len(y) * PROCENT_DANYCH_UCZACYCH)\n",
        "X_train = X[:x_len]\n",
        "X_test = X[x_len:]\n",
        "y_train = y[:y_len]\n",
        "y_test = y[y_len:]\n",
        "\n",
        "# print(X[0])\n",
        "# print(y[0])\n",
        "# print(data_array_filtered[0:12])"
      ],
      "metadata": {
        "colab": {
          "base_uri": "https://localhost:8080/"
        },
        "id": "Fog6E-oFWTGT",
        "outputId": "cce835f4-853b-4187-e83f-d535fdc68d28"
      },
      "execution_count": 54,
      "outputs": [
        {
          "output_type": "stream",
          "name": "stdout",
          "text": [
            "[106.6 105.8 103.1 102.7 100.9 103.9  99.4 100.3 101.4 100.9 100.8]\n",
            "101.9\n",
            "[array([1982. ,    1. ,  106.6]), array([1982. ,    3. ,  105.8]), array([1982. ,    4. ,  103.1]), array([1982. ,    5. ,  102.7]), array([1982. ,    6. ,  100.9]), array([1982. ,    7. ,  103.9]), array([1982. ,    8. ,   99.4]), array([1982. ,    9. ,  100.3]), array([1982. ,   10. ,  101.4]), array([1982. ,   11. ,  100.9]), array([1982. ,   12. ,  100.8]), array([1983. ,    1. ,  101.9])]\n"
          ]
        }
      ]
    },
    {
      "cell_type": "markdown",
      "source": [
        "# Budowa i trenowanie modelu"
      ],
      "metadata": {
        "id": "ZbHcy97zLuSm"
      }
    },
    {
      "cell_type": "code",
      "source": [
        "from sklearn.neural_network import MLPRegressor\n",
        "\n",
        "model = MLPRegressor(solver=\"adam\", hidden_layer_sizes=(5,10,5), max_iter=2200)\n",
        "\n",
        "model.fit(X, y)\n",
        "print('score:', model.score(X,y))\n",
        "# print('predictions:', model.predict(X))"
      ],
      "metadata": {
        "colab": {
          "base_uri": "https://localhost:8080/"
        },
        "id": "y-MGnJFJMI_9",
        "outputId": "d642318b-e503-4b55-b0ed-1b381096ab34"
      },
      "execution_count": 74,
      "outputs": [
        {
          "output_type": "stream",
          "name": "stdout",
          "text": [
            "score: 0.3939513940142225\n"
          ]
        }
      ]
    },
    {
      "cell_type": "markdown",
      "source": [
        "RNN - Recursive Neural Network"
      ],
      "metadata": {
        "id": "_TYcHSu5k0sa"
      }
    },
    {
      "cell_type": "code",
      "source": [
        "!pip install tensorflow matplotlib"
      ],
      "metadata": {
        "colab": {
          "base_uri": "https://localhost:8080/"
        },
        "id": "IkyTD1AGniZH",
        "outputId": "5ac1217d-417c-4a73-b808-fc53e32bf012"
      },
      "execution_count": 77,
      "outputs": [
        {
          "output_type": "stream",
          "name": "stdout",
          "text": [
            "Requirement already satisfied: tensorflow in /usr/local/lib/python3.11/dist-packages (2.18.0)\n",
            "Requirement already satisfied: matplotlib in /usr/local/lib/python3.11/dist-packages (3.10.0)\n",
            "Requirement already satisfied: absl-py>=1.0.0 in /usr/local/lib/python3.11/dist-packages (from tensorflow) (1.4.0)\n",
            "Requirement already satisfied: astunparse>=1.6.0 in /usr/local/lib/python3.11/dist-packages (from tensorflow) (1.6.3)\n",
            "Requirement already satisfied: flatbuffers>=24.3.25 in /usr/local/lib/python3.11/dist-packages (from tensorflow) (25.2.10)\n",
            "Requirement already satisfied: gast!=0.5.0,!=0.5.1,!=0.5.2,>=0.2.1 in /usr/local/lib/python3.11/dist-packages (from tensorflow) (0.6.0)\n",
            "Requirement already satisfied: google-pasta>=0.1.1 in /usr/local/lib/python3.11/dist-packages (from tensorflow) (0.2.0)\n",
            "Requirement already satisfied: libclang>=13.0.0 in /usr/local/lib/python3.11/dist-packages (from tensorflow) (18.1.1)\n",
            "Requirement already satisfied: opt-einsum>=2.3.2 in /usr/local/lib/python3.11/dist-packages (from tensorflow) (3.4.0)\n",
            "Requirement already satisfied: packaging in /usr/local/lib/python3.11/dist-packages (from tensorflow) (24.2)\n",
            "Requirement already satisfied: protobuf!=4.21.0,!=4.21.1,!=4.21.2,!=4.21.3,!=4.21.4,!=4.21.5,<6.0.0dev,>=3.20.3 in /usr/local/lib/python3.11/dist-packages (from tensorflow) (5.29.5)\n",
            "Requirement already satisfied: requests<3,>=2.21.0 in /usr/local/lib/python3.11/dist-packages (from tensorflow) (2.32.3)\n",
            "Requirement already satisfied: setuptools in /usr/local/lib/python3.11/dist-packages (from tensorflow) (75.2.0)\n",
            "Requirement already satisfied: six>=1.12.0 in /usr/local/lib/python3.11/dist-packages (from tensorflow) (1.17.0)\n",
            "Requirement already satisfied: termcolor>=1.1.0 in /usr/local/lib/python3.11/dist-packages (from tensorflow) (3.1.0)\n",
            "Requirement already satisfied: typing-extensions>=3.6.6 in /usr/local/lib/python3.11/dist-packages (from tensorflow) (4.14.0)\n",
            "Requirement already satisfied: wrapt>=1.11.0 in /usr/local/lib/python3.11/dist-packages (from tensorflow) (1.17.2)\n",
            "Requirement already satisfied: grpcio<2.0,>=1.24.3 in /usr/local/lib/python3.11/dist-packages (from tensorflow) (1.72.1)\n",
            "Requirement already satisfied: tensorboard<2.19,>=2.18 in /usr/local/lib/python3.11/dist-packages (from tensorflow) (2.18.0)\n",
            "Requirement already satisfied: keras>=3.5.0 in /usr/local/lib/python3.11/dist-packages (from tensorflow) (3.8.0)\n",
            "Requirement already satisfied: numpy<2.1.0,>=1.26.0 in /usr/local/lib/python3.11/dist-packages (from tensorflow) (2.0.2)\n",
            "Requirement already satisfied: h5py>=3.11.0 in /usr/local/lib/python3.11/dist-packages (from tensorflow) (3.13.0)\n",
            "Requirement already satisfied: ml-dtypes<0.5.0,>=0.4.0 in /usr/local/lib/python3.11/dist-packages (from tensorflow) (0.4.1)\n",
            "Requirement already satisfied: tensorflow-io-gcs-filesystem>=0.23.1 in /usr/local/lib/python3.11/dist-packages (from tensorflow) (0.37.1)\n",
            "Requirement already satisfied: contourpy>=1.0.1 in /usr/local/lib/python3.11/dist-packages (from matplotlib) (1.3.2)\n",
            "Requirement already satisfied: cycler>=0.10 in /usr/local/lib/python3.11/dist-packages (from matplotlib) (0.12.1)\n",
            "Requirement already satisfied: fonttools>=4.22.0 in /usr/local/lib/python3.11/dist-packages (from matplotlib) (4.58.1)\n",
            "Requirement already satisfied: kiwisolver>=1.3.1 in /usr/local/lib/python3.11/dist-packages (from matplotlib) (1.4.8)\n",
            "Requirement already satisfied: pillow>=8 in /usr/local/lib/python3.11/dist-packages (from matplotlib) (11.2.1)\n",
            "Requirement already satisfied: pyparsing>=2.3.1 in /usr/local/lib/python3.11/dist-packages (from matplotlib) (3.2.3)\n",
            "Requirement already satisfied: python-dateutil>=2.7 in /usr/local/lib/python3.11/dist-packages (from matplotlib) (2.9.0.post0)\n",
            "Requirement already satisfied: wheel<1.0,>=0.23.0 in /usr/local/lib/python3.11/dist-packages (from astunparse>=1.6.0->tensorflow) (0.45.1)\n",
            "Requirement already satisfied: rich in /usr/local/lib/python3.11/dist-packages (from keras>=3.5.0->tensorflow) (13.9.4)\n",
            "Requirement already satisfied: namex in /usr/local/lib/python3.11/dist-packages (from keras>=3.5.0->tensorflow) (0.1.0)\n",
            "Requirement already satisfied: optree in /usr/local/lib/python3.11/dist-packages (from keras>=3.5.0->tensorflow) (0.16.0)\n",
            "Requirement already satisfied: charset-normalizer<4,>=2 in /usr/local/lib/python3.11/dist-packages (from requests<3,>=2.21.0->tensorflow) (3.4.2)\n",
            "Requirement already satisfied: idna<4,>=2.5 in /usr/local/lib/python3.11/dist-packages (from requests<3,>=2.21.0->tensorflow) (3.10)\n",
            "Requirement already satisfied: urllib3<3,>=1.21.1 in /usr/local/lib/python3.11/dist-packages (from requests<3,>=2.21.0->tensorflow) (2.4.0)\n",
            "Requirement already satisfied: certifi>=2017.4.17 in /usr/local/lib/python3.11/dist-packages (from requests<3,>=2.21.0->tensorflow) (2025.4.26)\n",
            "Requirement already satisfied: markdown>=2.6.8 in /usr/local/lib/python3.11/dist-packages (from tensorboard<2.19,>=2.18->tensorflow) (3.8)\n",
            "Requirement already satisfied: tensorboard-data-server<0.8.0,>=0.7.0 in /usr/local/lib/python3.11/dist-packages (from tensorboard<2.19,>=2.18->tensorflow) (0.7.2)\n",
            "Requirement already satisfied: werkzeug>=1.0.1 in /usr/local/lib/python3.11/dist-packages (from tensorboard<2.19,>=2.18->tensorflow) (3.1.3)\n",
            "Requirement already satisfied: MarkupSafe>=2.1.1 in /usr/local/lib/python3.11/dist-packages (from werkzeug>=1.0.1->tensorboard<2.19,>=2.18->tensorflow) (3.0.2)\n",
            "Requirement already satisfied: markdown-it-py>=2.2.0 in /usr/local/lib/python3.11/dist-packages (from rich->keras>=3.5.0->tensorflow) (3.0.0)\n",
            "Requirement already satisfied: pygments<3.0.0,>=2.13.0 in /usr/local/lib/python3.11/dist-packages (from rich->keras>=3.5.0->tensorflow) (2.19.1)\n",
            "Requirement already satisfied: mdurl~=0.1 in /usr/local/lib/python3.11/dist-packages (from markdown-it-py>=2.2.0->rich->keras>=3.5.0->tensorflow) (0.1.2)\n"
          ]
        }
      ]
    },
    {
      "cell_type": "code",
      "source": [
        "# COS NIE CHCE DZIALAC\n",
        "\n",
        "import matplotlib.pyplot as plt\n",
        "\n",
        "from sklearn.preprocessing import MinMaxScaler\n",
        "from sklearn.metrics import mean_squared_error\n",
        "\n",
        "from tensorflow.keras.models import Sequential\n",
        "from tensorflow.keras.layers import Dense, LSTM, GRU\n",
        "# from tensorflow.python.keras.optimizers import SGD\n",
        "from tensorflow.random import set_seed\n",
        "set_seed(455)\n",
        "np.random.seed(455)\n",
        "\n",
        "sc = MinMaxScaler(feature_range=(0, 1))\n",
        "X_train_scaled = sc.fit_transform(X_train)\n",
        "y_train_scaled = sc.fit_transform(y_train)\n",
        "\n",
        "# The LSTM architecture\n",
        "n_steps = 11\n",
        "features = 1\n",
        "\n",
        "model_lstm = Sequential()\n",
        "model_lstm.add(GRU(units=125, input_shape=(n_steps, features)))\n",
        "model_lstm.add(Dense(units=1, activation='linear'))\n",
        "model_lstm.compile(optimizer=\"RMSprop\", loss=\"mse\")\n",
        "\n",
        "model_lstm.summary()\n",
        "model_lstm.fit(X_train_scaled, y_train_scaled, epochs=50, batch_size=32)\n",
        "\n",
        "predicted_stock_price = model_lstm.predict(X_test)\n",
        "\n",
        "def plot_predictions(test, predicted):\n",
        "    plt.plot(test, color=\"gray\", label=\"Real\")\n",
        "    plt.plot(predicted, color=\"red\", label=\"Predicted\")\n",
        "    plt.title(\"Inflation\")\n",
        "    plt.xlabel(\"Time\")\n",
        "    plt.ylabel(\"Inflation rate\")\n",
        "    plt.legend()\n",
        "    plt.show()\n",
        "\n",
        "def return_rmse(test, predicted):\n",
        "    rmse = np.sqrt(mean_squared_error(test, predicted))\n",
        "    print(\"The root mean squared error is {:.2f}.\".format(rmse))\n",
        "\n",
        "plot_predictions(y_test,predicted_stock_price)"
      ],
      "metadata": {
        "colab": {
          "base_uri": "https://localhost:8080/",
          "height": 472
        },
        "id": "evbAEIYJpniK",
        "outputId": "2ca2bb69-696d-4917-bcf7-74e3daa93f01"
      },
      "execution_count": 111,
      "outputs": [
        {
          "output_type": "display_data",
          "data": {
            "text/plain": [
              "<Figure size 640x480 with 1 Axes>"
            ],
            "image/png": "[encoded data removed]"
          },
          "metadata": {}
        }
      ]
    }
  ]
}