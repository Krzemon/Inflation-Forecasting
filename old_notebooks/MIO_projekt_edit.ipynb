{
  "nbformat": 4,
  "nbformat_minor": 0,
  "metadata": {
    "colab": {
      "provenance": [],
      "collapsed_sections": [
        "7CnPmsQsmWt7",
        "ZbHcy97zLuSm"
      ]
    },
    "kernelspec": {
      "name": "python3",
      "display_name": "Python 3"
    },
    "language_info": {
      "name": "python"
    }
  },
  "cells": [
    {
      "cell_type": "code",
      "execution_count": 6,
      "metadata": {
        "id": "bZJQN6R3bbDP"
      },
      "outputs": [],
      "source": [
        "import numpy as np\n",
        "import pandas as pd\n",
        "from sklearn.model_selection import train_test_split"
      ]
    },
    {
      "cell_type": "code",
      "source": [
        "# zapobieganie wypisywania notacji naukowej przez numpy\n",
        "np.set_printoptions(suppress=True)"
      ],
      "metadata": {
        "id": "1w36bvOBBl_A"
      },
      "execution_count": 2,
      "outputs": []
    },
    {
      "cell_type": "markdown",
      "source": [
        "https://stat.gov.pl/obszary-tematyczne/ceny-handel/wskazniki-cen/wskazniki-cen-towarow-i-uslug-konsumpcyjnych-pot-inflacja-/miesieczne-wskazniki-cen-towarow-i-uslug-konsumpcyjnych-od-1982-roku/"
      ],
      "metadata": {
        "id": "IfPSxhWMcVpm"
      }
    },
    {
      "cell_type": "markdown",
      "source": [
        "# Zbieranie i przygotowanie danych"
      ],
      "metadata": {
        "id": "pUUT6f3hL2Zv"
      }
    },
    {
      "cell_type": "markdown",
      "source": [
        "### Załadowanie pliku z google drive"
      ],
      "metadata": {
        "id": "TWFlXNSM5mhy"
      }
    },
    {
      "cell_type": "code",
      "source": [
        "### Załadowanie dysku\n",
        "# from google.colab import drive\n",
        "# drive.mount('/content/drive')"
      ],
      "metadata": {
        "id": "M_3ef9G9cWGr"
      },
      "execution_count": 7,
      "outputs": []
    },
    {
      "cell_type": "code",
      "source": [
        "# data_file = \"/content/drive/My Drive/Colab Notebooks/miesieczne_wskazniki_cen_towarow_i_uslug_konsumpcyjnych_od_1982_roku.xlsx\""
      ],
      "metadata": {
        "id": "mE4oDrnZLLLb"
      },
      "execution_count": 8,
      "outputs": []
    },
    {
      "cell_type": "markdown",
      "source": [
        "### Załadowanie pliku z dysku"
      ],
      "metadata": {
        "id": "bVqeeH3ZLIsN"
      }
    },
    {
      "cell_type": "code",
      "source": [
        "from google.colab import files\n",
        "uploaded = files.upload()\n",
        "data_file = list(uploaded.keys())[0]"
      ],
      "metadata": {
        "colab": {
          "base_uri": "https://localhost:8080/",
          "height": 75
        },
        "id": "Fq4l441QLMUw",
        "outputId": "db79e748-97e4-46ea-96e6-29672f32f7b6"
      },
      "execution_count": 9,
      "outputs": [
        {
          "output_type": "display_data",
          "data": {
            "text/plain": [
              "<IPython.core.display.HTML object>"
            ],
            "text/html": [
              "\n",
              "     <input type=\"file\" id=\"files-19f67ded-4991-40ba-83fc-fb9d0b4cbdb5\" name=\"files[]\" multiple disabled\n",
              "        style=\"border:none\" />\n",
              "     <output id=\"result-19f67ded-4991-40ba-83fc-fb9d0b4cbdb5\">\n",
              "      Upload widget is only available when the cell has been executed in the\n",
              "      current browser session. Please rerun this cell to enable.\n",
              "      </output>\n",
              "      <script>// Copyright 2017 Google LLC\n",
              "//\n",
              "// Licensed under the Apache License, Version 2.0 (the \"License\");\n",
              "// you may not use this file except in compliance with the License.\n",
              "// You may obtain a copy of the License at\n",
              "//\n",
              "//      http://www.apache.org/licenses/LICENSE-2.0\n",
              "//\n",
              "// Unless required by applicable law or agreed to in writing, software\n",
              "// distributed under the License is distributed on an \"AS IS\" BASIS,\n",
              "// WITHOUT WARRANTIES OR CONDITIONS OF ANY KIND, either express or implied.\n",
              "// See the License for the specific language governing permissions and\n",
              "// limitations under the License.\n",
              "\n",
              "/**\n",
              " * @fileoverview Helpers for google.colab Python module.\n",
              " */\n",
              "(function(scope) {\n",
              "function span(text, styleAttributes = {}) {\n",
              "  const element = document.createElement('span');\n",
              "  element.textContent = text;\n",
              "  for (const key of Object.keys(styleAttributes)) {\n",
              "    element.style[key] = styleAttributes[key];\n",
              "  }\n",
              "  return element;\n",
              "}\n",
              "\n",
              "// Max number of bytes which will be uploaded at a time.\n",
              "const MAX_PAYLOAD_SIZE = 100 * 1024;\n",
              "\n",
              "function _uploadFiles(inputId, outputId) {\n",
              "  const steps = uploadFilesStep(inputId, outputId);\n",
              "  const outputElement = document.getElementById(outputId);\n",
              "  // Cache steps on the outputElement to make it available for the next call\n",
              "  // to uploadFilesContinue from Python.\n",
              "  outputElement.steps = steps;\n",
              "\n",
              "  return _uploadFilesContinue(outputId);\n",
              "}\n",
              "\n",
              "// This is roughly an async generator (not supported in the browser yet),\n",
              "// where there are multiple asynchronous steps and the Python side is going\n",
              "// to poll for completion of each step.\n",
              "// This uses a Promise to block the python side on completion of each step,\n",
              "// then passes the result of the previous step as the input to the next step.\n",
              "function _uploadFilesContinue(outputId) {\n",
              "  const outputElement = document.getElementById(outputId);\n",
              "  const steps = outputElement.steps;\n",
              "\n",
              "  const next = steps.next(outputElement.lastPromiseValue);\n",
              "  return Promise.resolve(next.value.promise).then((value) => {\n",
              "    // Cache the last promise value to make it available to the next\n",
              "    // step of the generator.\n",
              "    outputElement.lastPromiseValue = value;\n",
              "    return next.value.response;\n",
              "  });\n",
              "}\n",
              "\n",
              "/**\n",
              " * Generator function which is called between each async step of the upload\n",
              " * process.\n",
              " * @param {string} inputId Element ID of the input file picker element.\n",
              " * @param {string} outputId Element ID of the output display.\n",
              " * @return {!Iterable<!Object>} Iterable of next steps.\n",
              " */\n",
              "function* uploadFilesStep(inputId, outputId) {\n",
              "  const inputElement = document.getElementById(inputId);\n",
              "  inputElement.disabled = false;\n",
              "\n",
              "  const outputElement = document.getElementById(outputId);\n",
              "  outputElement.innerHTML = '';\n",
              "\n",
              "  const pickedPromise = new Promise((resolve) => {\n",
              "    inputElement.addEventListener('change', (e) => {\n",
              "      resolve(e.target.files);\n",
              "    });\n",
              "  });\n",
              "\n",
              "  const cancel = document.createElement('button');\n",
              "  inputElement.parentElement.appendChild(cancel);\n",
              "  cancel.textContent = 'Cancel upload';\n",
              "  const cancelPromise = new Promise((resolve) => {\n",
              "    cancel.onclick = () => {\n",
              "      resolve(null);\n",
              "    };\n",
              "  });\n",
              "\n",
              "  // Wait for the user to pick the files.\n",
              "  const files = yield {\n",
              "    promise: Promise.race([pickedPromise, cancelPromise]),\n",
              "    response: {\n",
              "      action: 'starting',\n",
              "    }\n",
              "  };\n",
              "\n",
              "  cancel.remove();\n",
              "\n",
              "  // Disable the input element since further picks are not allowed.\n",
              "  inputElement.disabled = true;\n",
              "\n",
              "  if (!files) {\n",
              "    return {\n",
              "      response: {\n",
              "        action: 'complete',\n",
              "      }\n",
              "    };\n",
              "  }\n",
              "\n",
              "  for (const file of files) {\n",
              "    const li = document.createElement('li');\n",
              "    li.append(span(file.name, {fontWeight: 'bold'}));\n",
              "    li.append(span(\n",
              "        `(${file.type || 'n/a'}) - ${file.size} bytes, ` +\n",
              "        `last modified: ${\n",
              "            file.lastModifiedDate ? file.lastModifiedDate.toLocaleDateString() :\n",
              "                                    'n/a'} - `));\n",
              "    const percent = span('0% done');\n",
              "    li.appendChild(percent);\n",
              "\n",
              "    outputElement.appendChild(li);\n",
              "\n",
              "    const fileDataPromise = new Promise((resolve) => {\n",
              "      const reader = new FileReader();\n",
              "      reader.onload = (e) => {\n",
              "        resolve(e.target.result);\n",
              "      };\n",
              "      reader.readAsArrayBuffer(file);\n",
              "    });\n",
              "    // Wait for the data to be ready.\n",
              "    let fileData = yield {\n",
              "      promise: fileDataPromise,\n",
              "      response: {\n",
              "        action: 'continue',\n",
              "      }\n",
              "    };\n",
              "\n",
              "    // Use a chunked sending to avoid message size limits. See b/62115660.\n",
              "    let position = 0;\n",
              "    do {\n",
              "      const length = Math.min(fileData.byteLength - position, MAX_PAYLOAD_SIZE);\n",
              "      const chunk = new Uint8Array(fileData, position, length);\n",
              "      position += length;\n",
              "\n",
              "      const base64 = btoa(String.fromCharCode.apply(null, chunk));\n",
              "      yield {\n",
              "        response: {\n",
              "          action: 'append',\n",
              "          file: file.name,\n",
              "          data: base64,\n",
              "        },\n",
              "      };\n",
              "\n",
              "      let percentDone = fileData.byteLength === 0 ?\n",
              "          100 :\n",
              "          Math.round((position / fileData.byteLength) * 100);\n",
              "      percent.textContent = `${percentDone}% done`;\n",
              "\n",
              "    } while (position < fileData.byteLength);\n",
              "  }\n",
              "\n",
              "  // All done.\n",
              "  yield {\n",
              "    response: {\n",
              "      action: 'complete',\n",
              "    }\n",
              "  };\n",
              "}\n",
              "\n",
              "scope.google = scope.google || {};\n",
              "scope.google.colab = scope.google.colab || {};\n",
              "scope.google.colab._files = {\n",
              "  _uploadFiles,\n",
              "  _uploadFilesContinue,\n",
              "};\n",
              "})(self);\n",
              "</script> "
            ]
          },
          "metadata": {}
        },
        {
          "output_type": "stream",
          "name": "stdout",
          "text": [
            "Saving miesieczne_wskazniki_cen_towarow_i_uslug_konsumpcyjnych_od_1982_roku.xlsx to miesieczne_wskazniki_cen_towarow_i_uslug_konsumpcyjnych_od_1982_roku.xlsx\n"
          ]
        }
      ]
    },
    {
      "cell_type": "code",
      "source": [
        "try:\n",
        "  df = pd.read_excel(data_file)\n",
        "  if \"Sposób prezentacji\" in df.columns:\n",
        "      # Filtrowanie danych\n",
        "      df_poprzedni_miesiac_100 = df[df[\"Sposób prezentacji\"] == \"Poprzedni miesiąc = 100\"].copy()\n",
        "\n",
        "      print(\"Wczytano dane i przefiltrowano według 'Sposób prezentacji' = 'Poprzedni miesiąc=100'.\")\n",
        "  else:\n",
        "      print(\"Kolumna 'Sposób prezentacji' nie została znaleziona w pliku Excel.\")\n",
        "except FileNotFoundError:\n",
        "    print(f\"Błąd: Plik nie znaleziony pod ścieżką {data_file}\")\n",
        "except Exception as e:\n",
        "    print(f\"Wystąpił błąd podczas wczytywania pliku: {e}\")"
      ],
      "metadata": {
        "id": "flwuB9BMn-aO",
        "colab": {
          "base_uri": "https://localhost:8080/"
        },
        "outputId": "8c93713b-0032-4364-a89d-baa6ff96eed0"
      },
      "execution_count": 10,
      "outputs": [
        {
          "output_type": "stream",
          "name": "stdout",
          "text": [
            "Wczytano dane i przefiltrowano według 'Sposób prezentacji' = 'Poprzedni miesiąc=100'.\n"
          ]
        }
      ]
    },
    {
      "cell_type": "markdown",
      "source": [
        "### Filtracja danych"
      ],
      "metadata": {
        "id": "VhgLC8fM5ilM"
      }
    },
    {
      "cell_type": "code",
      "source": [
        "# TODO: sprawdz co oznacza Flaga 'a' w roku 2000 i 2001\n",
        "#df_poprzedni_miesiac_100[[\"Sposób prezentacji\", \"Rok\", \"Miesiąc\", \"Wartość\", \"Flaga\"]]\n",
        "data = df_poprzedni_miesiac_100[[\"Rok\", \"Miesiąc\", \"Wartość\"]]\n",
        "# pozbywamy się wierszy z wartościami NaN, występujące w roku 2025\n",
        "data = data.dropna(subset=[\"Wartość\"])\n",
        "data = data.sort_values(by=['Rok','Miesiąc'], ascending=[1,1])\n",
        "\n",
        "data_array = data.to_numpy()\n",
        "# print(data.head(20))"
      ],
      "metadata": {
        "id": "7rfqwWZveh22"
      },
      "execution_count": 11,
      "outputs": []
    },
    {
      "cell_type": "markdown",
      "source": [
        "Mając różnice pomiędzy następnymi miesiącami, usuwamy oulinery, które pokazują dużą różnicę inflacji."
      ],
      "metadata": {
        "id": "TsRMW7l19cTe"
      }
    },
    {
      "cell_type": "code",
      "source": [
        "# średnia arytmetyczna\n",
        "mean = np.mean(data_array[:, 2:3], axis=0)\n",
        "# odchylenie standardowe\n",
        "sd = np.std(data_array[:, 2:3], axis=0)\n",
        "top_limit = mean + 3 * sd\n",
        "bottom_limit = mean - 3 * sd\n",
        "\n",
        "# wypiszmy dane, które zostaną usunięte (outliery)\n",
        "for row in data_array:\n",
        "  if (row[2] <= bottom_limit) or (row[2] >= top_limit):\n",
        "    print(row)\n",
        "\n",
        "data_array_filtered = [row for row in data_array if (row[2] > bottom_limit)]\n",
        "data_array_filtered = [row for row in data_array_filtered if (row[2] < top_limit)]"
      ],
      "metadata": {
        "colab": {
          "base_uri": "https://localhost:8080/"
        },
        "id": "aKEH2cnO5qxl",
        "outputId": "aa98d911-3914-416d-e183-5856384a0c8a"
      },
      "execution_count": 12,
      "outputs": [
        {
          "output_type": "stream",
          "name": "stdout",
          "text": [
            "[1982.     2.   136.3]\n",
            "[1989.     8.   139.5]\n",
            "[1989.     9.   134.4]\n",
            "[1989.    10.   154.8]\n",
            "[1989.    11.   122.4]\n",
            "[1990.     1.   179.6]\n",
            "[1990.     2.   123.8]\n"
          ]
        }
      ]
    },
    {
      "cell_type": "code",
      "source": [
        "# print(data_array_filtered)"
      ],
      "metadata": {
        "id": "HqyaU1CjRVJN"
      },
      "execution_count": 14,
      "outputs": []
    },
    {
      "cell_type": "markdown",
      "source": [
        "### Konwersja danych"
      ],
      "metadata": {
        "id": "i5cMsVxO5pAv"
      }
    },
    {
      "cell_type": "markdown",
      "source": [
        "inclacja - gdy \"Wartość\" > 100\n",
        "\n",
        "deflacja - gdy \"Wartość\" < 100"
      ],
      "metadata": {
        "id": "86QEzXEPA6qE"
      }
    },
    {
      "cell_type": "code",
      "source": [
        "# kolumna 0, rok\n",
        "# kolumna 1, miesiąc\n",
        "# kolumna 2, wartość względem grudnia 1981\n",
        "data_len = len(data)\n",
        "data_absolute_inflation = np.zeros((len(data), 3))\n",
        "absolute_result = 1.0\n",
        "idx = 0\n",
        "for row in data_array:\n",
        "  absolute_result = absolute_result + absolute_result * ((float(row[2])-100.0) / 100.0)\n",
        "  data_absolute_inflation[idx] = [int(row[0]), int(row[1]), absolute_result]\n",
        "  idx += 1\n",
        "print(data_absolute_inflation)"
      ],
      "metadata": {
        "id": "gF4k3Kbmv2QI",
        "colab": {
          "base_uri": "https://localhost:8080/"
        },
        "outputId": "8f23b658-c4fc-4eba-a53e-e4f42bafcd07"
      },
      "execution_count": 15,
      "outputs": [
        {
          "output_type": "stream",
          "name": "stdout",
          "text": [
            "[[1982.            1.            1.066     ]\n",
            " [1982.            2.            1.452958  ]\n",
            " [1982.            3.            1.53722956]\n",
            " ...\n",
            " [2025.            2.         3590.96204085]\n",
            " [2025.            3.         3598.14396493]\n",
            " [2025.            4.         3612.53654079]]\n"
          ]
        }
      ]
    },
    {
      "cell_type": "markdown",
      "source": [
        "Wydaje mi się, że lepiej będzie można wykorzystać dane data_absolute_date_inflation, ponieważ tam mamy jedną kolumnę określającą czas, ale nie jestem pewien."
      ],
      "metadata": {
        "id": "TGqS93eam9aJ"
      }
    },
    {
      "cell_type": "code",
      "source": [
        "# kolumna 0, ilość miesięcy od grudnia 1982 (1 = dla styczeń 1982, 2 dla luty 1982, ..., 13 dla styczeń 1983, itd.)\n",
        "# kolumna 1, wartość względem grudnia 1981\n",
        "data_len = len(data)\n",
        "data_absolute_date_inflation = np.zeros((len(data), 2))\n",
        "absolute_result = 1.0\n",
        "idx = 0\n",
        "for row in data_array:\n",
        "  absolute_result = absolute_result + absolute_result * ((float(row[2])-100.0) / 100.0)\n",
        "  data_absolute_date_inflation[idx] = [(int(row[0])-1982)*12 + int(row[1]), absolute_result]\n",
        "  idx += 1\n",
        "print(data_absolute_date_inflation)"
      ],
      "metadata": {
        "colab": {
          "base_uri": "https://localhost:8080/"
        },
        "id": "MXmn4JbNyxdH",
        "outputId": "d171abd5-ec58-4514-e43c-4af49cb504a6"
      },
      "execution_count": 16,
      "outputs": [
        {
          "output_type": "stream",
          "name": "stdout",
          "text": [
            "[[   1.            1.066     ]\n",
            " [   2.            1.452958  ]\n",
            " [   3.            1.53722956]\n",
            " ...\n",
            " [ 518.         3590.96204085]\n",
            " [ 519.         3598.14396493]\n",
            " [ 520.         3612.53654079]]\n"
          ]
        }
      ]
    },
    {
      "cell_type": "code",
      "source": [
        "# Zaczynając od podanego miesiąca, zwraca dane z poprzednich miesięcy w postaci:\n",
        "# [ostatnie miesiące], [ich inflacje]\n",
        "def getData_of_last_months(month, number_of_months):\n",
        "  if month - number_of_months <= 0:\n",
        "    raise Exception(\"Nie można pobrać danych przed 1982 rokiem. Podaj późniejszy miesiąc, lub zmniejsz ilość miesięcy, którą chcesz pobrać.\")\n",
        "    return\n",
        "  months = np.zeros((number_of_months, 1))\n",
        "  inflation = np.zeros((number_of_months, 1))\n",
        "  for i in range(number_of_months):\n",
        "    months[i] = (month - number_of_months) + i - 1\n",
        "    inflation[i] = data_array_filtered[months[i]][2]\n",
        "  return months, inflation\n",
        "\n",
        "# Zaczynając od podanego miesiąca, zwraca dane z poprzednich miesięcy w postaci:\n",
        "# [ostatnie miesiące], [ich inflacje]\n",
        "def getInflation_of_last_months(month, number_of_months):\n",
        "  if month - number_of_months <= 0:\n",
        "    raise Exception(\"Nie można pobrać danych przed 1982 rokiem. Podaj późniejszy miesiąc, lub zmniejsz ilość miesięcy, którą chcesz pobrać.\")\n",
        "    return\n",
        "  inflation = np.zeros((number_of_months, 1))\n",
        "  for i in range(number_of_months):\n",
        "    inflation[i] = data_array_filtered[(month - number_of_months) + i - 1][2]\n",
        "  return inflation\n"
      ],
      "metadata": {
        "id": "IPni48u7Ps3n"
      },
      "execution_count": 17,
      "outputs": []
    },
    {
      "cell_type": "markdown",
      "source": [
        "### Podział danych na uczące i testujące"
      ],
      "metadata": {
        "id": "7CnPmsQsmWt7"
      }
    },
    {
      "cell_type": "code",
      "source": [
        "## losowy podział danych\n",
        "# X = data_absolute_inflation[:, 0:2] # daty\n",
        "# y = data_absolute_inflation[:, 2]   # inflacja\n",
        "# X_train, X_test, y_train, y_test = train_test_split(X, y, test_size=0.33, random_state=42)"
      ],
      "metadata": {
        "id": "gWsHa5jFxbAh"
      },
      "execution_count": null,
      "outputs": []
    },
    {
      "cell_type": "markdown",
      "source": [
        "Podział danych na 80% danych uczących, tj. od styczeń 1882 do września 2016 roku."
      ],
      "metadata": {
        "id": "kewiPaspnSuQ"
      }
    },
    {
      "cell_type": "code",
      "source": [
        "# procent_danych_testowych = 0.8\n",
        "\n",
        "# X = data_absolute_inflation[:, 0:2] # daty\n",
        "# y = data_absolute_inflation[:, 2]   # inflacja\n",
        "# x_len = int(len(X) * procent_danych_testowych)\n",
        "# y_len = int(len(y) * procent_danych_testowych)\n",
        "# X_train = X[:x_len]\n",
        "# X_test = X[x_len:]\n",
        "# y_train = y[:y_len]\n",
        "# y_test = y[y_len:]\n",
        "# print(f\"Przedział dat danych trenujących: 0{int(X_train[0][1])}.{int(X_train[0][0])} - 0{int(X_train[-1][1])}.{int(X_train[-1][0])}\")\n",
        "# print(f\"Przedział dat danych testowych:   0{int(X_test[0][1])}.{int(X_test[0][0])} - 0{int(X_test[-1][1])}.{int(X_test[-1][0])}\")"
      ],
      "metadata": {
        "colab": {
          "base_uri": "https://localhost:8080/"
        },
        "id": "m_WvadcUmZxa",
        "outputId": "636c14ce-bdc8-4fad-92fe-96011ec4435d"
      },
      "execution_count": null,
      "outputs": [
        {
          "output_type": "stream",
          "name": "stdout",
          "text": [
            "Przedział dat danych trenujących: 01.1982 - 08.2016\n",
            "Przedział dat danych testowych:   09.2016 - 04.2025\n"
          ]
        }
      ]
    },
    {
      "cell_type": "code",
      "source": [
        "# PROCENT_DANYCH_UCZACYCH = 0.8\n",
        "# ILOSC_DNI_POPRZEDNICH = 11\n",
        "# X, y = [], []\n",
        "# for i in range(ILOSC_DNI_POPRZEDNICH+2, len(data_array_filtered)):\n",
        "#   X.append(getInflation_of_last_months(i-1, ILOSC_DNI_POPRZEDNICH).flatten())\n",
        "#   y.append(data_array_filtered[i][2])\n",
        "# X = np.array(X) # inflacje w poprzednich miesiącach, np. [inflacja_styczen, inflacja_luty]\n",
        "# y = np.array(y) # inflacja w aktualnym miesiącu      np. [inflacja_marzec]\n",
        "\n",
        "# x_len = int(len(X) * PROCENT_DANYCH_UCZACYCH)\n",
        "# y_len = int(len(y) * PROCENT_DANYCH_UCZACYCH)\n",
        "# X_train = X[:x_len]\n",
        "# X_test = X[x_len:]\n",
        "# y_train = y[:y_len]\n",
        "# y_test = y[y_len:]\n",
        "\n",
        "# # print(X[0])\n",
        "# # print(y[0])\n",
        "# # print(data_array_filtered[0:12])"
      ],
      "metadata": {
        "id": "Fog6E-oFWTGT"
      },
      "execution_count": 21,
      "outputs": []
    },
    {
      "cell_type": "markdown",
      "source": [
        "# Budowa i trenowanie modelu"
      ],
      "metadata": {
        "id": "ZbHcy97zLuSm"
      }
    },
    {
      "cell_type": "code",
      "source": [
        "# from sklearn.neural_network import MLPRegressor\n",
        "\n",
        "# model = MLPRegressor(solver=\"adam\", hidden_layer_sizes=(5,10,5), max_iter=2200)\n",
        "\n",
        "# model.fit(X, y)\n",
        "# print('score:', model.score(X,y))\n",
        "# # print('predictions:', model.predict(X))"
      ],
      "metadata": {
        "colab": {
          "base_uri": "https://localhost:8080/"
        },
        "id": "y-MGnJFJMI_9",
        "outputId": "d642318b-e503-4b55-b0ed-1b381096ab34"
      },
      "execution_count": null,
      "outputs": [
        {
          "output_type": "stream",
          "name": "stdout",
          "text": [
            "score: 0.3939513940142225\n"
          ]
        }
      ]
    },
    {
      "cell_type": "markdown",
      "source": [
        "RNN - Recursive Neural Network"
      ],
      "metadata": {
        "id": "_TYcHSu5k0sa"
      }
    },
    {
      "cell_type": "code",
      "source": [
        "# !pip install tensorflow matplotlib"
      ],
      "metadata": {
        "id": "IkyTD1AGniZH"
      },
      "execution_count": 20,
      "outputs": []
    },
    {
      "cell_type": "code",
      "source": [
        "# # COS NIE CHCE DZIALAC\n",
        "\n",
        "# import matplotlib.pyplot as plt\n",
        "\n",
        "# from sklearn.preprocessing import MinMaxScaler\n",
        "# from sklearn.metrics import mean_squared_error\n",
        "\n",
        "# from tensorflow.keras.models import Sequential\n",
        "# from tensorflow.keras.layers import Dense, LSTM, GRU\n",
        "# # from tensorflow.python.keras.optimizers import SGD\n",
        "# from tensorflow.random import set_seed\n",
        "# set_seed(455)\n",
        "# np.random.seed(455)\n",
        "\n",
        "# sc = MinMaxScaler(feature_range=(0, 1))\n",
        "# X_train_scaled = sc.fit_transform(X_train)\n",
        "# y_train_scaled = sc.fit_transform(y_train)\n",
        "\n",
        "# # The LSTM architecture\n",
        "# n_steps = 11\n",
        "# features = 1\n",
        "\n",
        "# model_lstm = Sequential()\n",
        "# model_lstm.add(GRU(units=125, input_shape=(n_steps, features)))\n",
        "# model_lstm.add(Dense(units=1, activation='linear'))\n",
        "# model_lstm.compile(optimizer=\"RMSprop\", loss=\"mse\")\n",
        "\n",
        "# model_lstm.summary()\n",
        "# model_lstm.fit(X_train_scaled, y_train_scaled, epochs=50, batch_size=32)\n",
        "\n",
        "# predicted_stock_price = model_lstm.predict(X_test)\n",
        "\n",
        "# def plot_predictions(test, predicted):\n",
        "#     plt.plot(test, color=\"gray\", label=\"Real\")\n",
        "#     plt.plot(predicted, color=\"red\", label=\"Predicted\")\n",
        "#     plt.title(\"Inflation\")\n",
        "#     plt.xlabel(\"Time\")\n",
        "#     plt.ylabel(\"Inflation rate\")\n",
        "#     plt.legend()\n",
        "#     plt.show()\n",
        "\n",
        "# def return_rmse(test, predicted):\n",
        "#     rmse = np.sqrt(mean_squared_error(test, predicted))\n",
        "#     print(\"The root mean squared error is {:.2f}.\".format(rmse))\n",
        "\n",
        "# plot_predictions(y_test,predicted_stock_price)"
      ],
      "metadata": {
        "colab": {
          "base_uri": "https://localhost:8080/",
          "height": 472
        },
        "id": "evbAEIYJpniK",
        "outputId": "2ca2bb69-696d-4917-bcf7-74e3daa93f01"
      },
      "execution_count": null,
      "outputs": [
        {
          "output_type": "display_data",
          "data": {
            "text/plain": [
              "<Figure size 640x480 with 1 Axes>"
            ],
            "image/png": "[encoded data removed]"
          },
          "metadata": {}
        }
      ]
    },
    {
      "cell_type": "markdown",
      "source": [
        "# inne podejscie"
      ],
      "metadata": {
        "id": "hRzBNtPBc_bc"
      }
    },
    {
      "cell_type": "code",
      "source": [
        "procent_danych_uczacych = 0.8\n",
        "szerokosc_okna = 11\n",
        "\n",
        "X, y = [], []\n",
        "for i in range(szerokosc_okna + 2, len(data_array_filtered)):\n",
        "    X.append(getInflation_of_last_months(i - 1, szerokosc_okna).flatten())\n",
        "    y.append(data_array_filtered[i][2])\n",
        "X = np.array(X)\n",
        "y = np.array(y)\n",
        "\n",
        "x_len = int(len(X) * procent_danych_uczacych)\n",
        "X_train, X_test = X[:x_len], X[x_len:]\n",
        "y_train, y_test = y[:x_len], y[x_len:]"
      ],
      "metadata": {
        "id": "KO_p5o2jZ1HI"
      },
      "execution_count": 23,
      "outputs": []
    },
    {
      "cell_type": "code",
      "source": [
        "sc_X = MinMaxScaler(feature_range=(0, 1))\n",
        "sc_y = MinMaxScaler(feature_range=(0, 1))\n",
        "X_train_scaled = sc_X.fit_transform(X_train)\n",
        "X_test_scaled = sc_X.transform(X_test)\n",
        "y_train_scaled = sc_y.fit_transform(y_train.reshape(-1, 1))\n",
        "y_test_scaled = sc_y.transform(y_test.reshape(-1, 1))"
      ],
      "metadata": {
        "id": "JeIDmVwmeBPA"
      },
      "execution_count": 24,
      "outputs": []
    },
    {
      "cell_type": "code",
      "source": [
        "model_mlp = Sequential()\n",
        "model_mlp.add(Dense(units=50, activation='relu', input_shape=(szerokosc_okna,)))\n",
        "model_mlp.add(Dense(units=25, activation='relu'))\n",
        "model_mlp.add(Dense(units=10, activation='relu'))\n",
        "model_mlp.add(Dense(units=1, activation='linear'))\n",
        "model_mlp.compile(optimizer='adam', loss='mse')"
      ],
      "metadata": {
        "colab": {
          "base_uri": "https://localhost:8080/"
        },
        "id": "px1VtOnCfrKa",
        "outputId": "701ec12e-982a-4a1f-fe17-fba519e85434"
      },
      "execution_count": 25,
      "outputs": [
        {
          "output_type": "stream",
          "name": "stderr",
          "text": [
            "/usr/local/lib/python3.11/dist-packages/keras/src/layers/core/dense.py:87: UserWarning: Do not pass an `input_shape`/`input_dim` argument to a layer. When using Sequential models, prefer using an `Input(shape)` object as the first layer in the model instead.\n",
            "  super().__init__(activity_regularizer=activity_regularizer, **kwargs)\n"
          ]
        }
      ]
    },
    {
      "cell_type": "code",
      "source": [
        "model_mlp.fit(X_train_scaled, y_train_scaled, epochs=100, batch_size=32, validation_split=0.2, verbose=1)\n",
        "\n",
        "predicted_inflation = model_mlp.predict(X_test_scaled)\n",
        "predicted_inflation = sc_y.inverse_transform(predicted_inflation)  # Odwrócenie skalowania"
      ],
      "metadata": {
        "colab": {
          "base_uri": "https://localhost:8080/"
        },
        "id": "m5k-RzSofr7y",
        "outputId": "64a310e0-9ed2-48ab-aab3-5dce7a5e7c18"
      },
      "execution_count": 26,
      "outputs": [
        {
          "output_type": "stream",
          "name": "stdout",
          "text": [
            "Epoch 1/100\n",
            "\u001b[1m10/10\u001b[0m \u001b[32m━━━━━━━━━━━━━━━━━━━━\u001b[0m\u001b[37m\u001b[0m \u001b[1m2s\u001b[0m 30ms/step - loss: 0.0834 - val_loss: 0.0025\n",
            "Epoch 2/100\n",
            "\u001b[1m10/10\u001b[0m \u001b[32m━━━━━━━━━━━━━━━━━━━━\u001b[0m\u001b[37m\u001b[0m \u001b[1m0s\u001b[0m 15ms/step - loss: 0.0294 - val_loss: 9.4122e-04\n",
            "Epoch 3/100\n",
            "\u001b[1m10/10\u001b[0m \u001b[32m━━━━━━━━━━━━━━━━━━━━\u001b[0m\u001b[37m\u001b[0m \u001b[1m0s\u001b[0m 12ms/step - loss: 0.0144 - val_loss: 0.0046\n",
            "Epoch 4/100\n",
            "\u001b[1m10/10\u001b[0m \u001b[32m━━━━━━━━━━━━━━━━━━━━\u001b[0m\u001b[37m\u001b[0m \u001b[1m0s\u001b[0m 15ms/step - loss: 0.0106 - val_loss: 0.0031\n",
            "Epoch 5/100\n",
            "\u001b[1m10/10\u001b[0m \u001b[32m━━━━━━━━━━━━━━━━━━━━\u001b[0m\u001b[37m\u001b[0m \u001b[1m0s\u001b[0m 12ms/step - loss: 0.0094 - val_loss: 0.0013\n",
            "Epoch 6/100\n",
            "\u001b[1m10/10\u001b[0m \u001b[32m━━━━━━━━━━━━━━━━━━━━\u001b[0m\u001b[37m\u001b[0m \u001b[1m0s\u001b[0m 15ms/step - loss: 0.0092 - val_loss: 0.0010\n",
            "Epoch 7/100\n",
            "\u001b[1m10/10\u001b[0m \u001b[32m━━━━━━━━━━━━━━━━━━━━\u001b[0m\u001b[37m\u001b[0m \u001b[1m0s\u001b[0m 13ms/step - loss: 0.0079 - val_loss: 0.0013\n",
            "Epoch 8/100\n",
            "\u001b[1m10/10\u001b[0m \u001b[32m━━━━━━━━━━━━━━━━━━━━\u001b[0m\u001b[37m\u001b[0m \u001b[1m0s\u001b[0m 18ms/step - loss: 0.0072 - val_loss: 9.0820e-04\n",
            "Epoch 9/100\n",
            "\u001b[1m10/10\u001b[0m \u001b[32m━━━━━━━━━━━━━━━━━━━━\u001b[0m\u001b[37m\u001b[0m \u001b[1m0s\u001b[0m 16ms/step - loss: 0.0080 - val_loss: 7.1098e-04\n",
            "Epoch 10/100\n",
            "\u001b[1m10/10\u001b[0m \u001b[32m━━━━━━━━━━━━━━━━━━━━\u001b[0m\u001b[37m\u001b[0m \u001b[1m0s\u001b[0m 14ms/step - loss: 0.0077 - val_loss: 5.8901e-04\n",
            "Epoch 11/100\n",
            "\u001b[1m10/10\u001b[0m \u001b[32m━━━━━━━━━━━━━━━━━━━━\u001b[0m\u001b[37m\u001b[0m \u001b[1m0s\u001b[0m 12ms/step - loss: 0.0076 - val_loss: 5.9859e-04\n",
            "Epoch 12/100\n",
            "\u001b[1m10/10\u001b[0m \u001b[32m━━━━━━━━━━━━━━━━━━━━\u001b[0m\u001b[37m\u001b[0m \u001b[1m0s\u001b[0m 8ms/step - loss: 0.0094 - val_loss: 4.9005e-04\n",
            "Epoch 13/100\n",
            "\u001b[1m10/10\u001b[0m \u001b[32m━━━━━━━━━━━━━━━━━━━━\u001b[0m\u001b[37m\u001b[0m \u001b[1m0s\u001b[0m 8ms/step - loss: 0.0098 - val_loss: 3.3916e-04\n",
            "Epoch 14/100\n",
            "\u001b[1m10/10\u001b[0m \u001b[32m━━━━━━━━━━━━━━━━━━━━\u001b[0m\u001b[37m\u001b[0m \u001b[1m0s\u001b[0m 9ms/step - loss: 0.0086 - val_loss: 3.0309e-04\n",
            "Epoch 15/100\n",
            "\u001b[1m10/10\u001b[0m \u001b[32m━━━━━━━━━━━━━━━━━━━━\u001b[0m\u001b[37m\u001b[0m \u001b[1m0s\u001b[0m 8ms/step - loss: 0.0100 - val_loss: 2.9764e-04\n",
            "Epoch 16/100\n",
            "\u001b[1m10/10\u001b[0m \u001b[32m━━━━━━━━━━━━━━━━━━━━\u001b[0m\u001b[37m\u001b[0m \u001b[1m0s\u001b[0m 9ms/step - loss: 0.0084 - val_loss: 2.6503e-04\n",
            "Epoch 17/100\n",
            "\u001b[1m10/10\u001b[0m \u001b[32m━━━━━━━━━━━━━━━━━━━━\u001b[0m\u001b[37m\u001b[0m \u001b[1m0s\u001b[0m 8ms/step - loss: 0.0057 - val_loss: 2.5230e-04\n",
            "Epoch 18/100\n",
            "\u001b[1m10/10\u001b[0m \u001b[32m━━━━━━━━━━━━━━━━━━━━\u001b[0m\u001b[37m\u001b[0m \u001b[1m0s\u001b[0m 8ms/step - loss: 0.0112 - val_loss: 2.6607e-04\n",
            "Epoch 19/100\n",
            "\u001b[1m10/10\u001b[0m \u001b[32m━━━━━━━━━━━━━━━━━━━━\u001b[0m\u001b[37m\u001b[0m \u001b[1m0s\u001b[0m 12ms/step - loss: 0.0096 - val_loss: 2.4915e-04\n",
            "Epoch 20/100\n",
            "\u001b[1m10/10\u001b[0m \u001b[32m━━━━━━━━━━━━━━━━━━━━\u001b[0m\u001b[37m\u001b[0m \u001b[1m0s\u001b[0m 8ms/step - loss: 0.0095 - val_loss: 2.5371e-04\n",
            "Epoch 21/100\n",
            "\u001b[1m10/10\u001b[0m \u001b[32m━━━━━━━━━━━━━━━━━━━━\u001b[0m\u001b[37m\u001b[0m \u001b[1m0s\u001b[0m 8ms/step - loss: 0.0068 - val_loss: 2.6722e-04\n",
            "Epoch 22/100\n",
            "\u001b[1m10/10\u001b[0m \u001b[32m━━━━━━━━━━━━━━━━━━━━\u001b[0m\u001b[37m\u001b[0m \u001b[1m0s\u001b[0m 10ms/step - loss: 0.0065 - val_loss: 2.9099e-04\n",
            "Epoch 23/100\n",
            "\u001b[1m10/10\u001b[0m \u001b[32m━━━━━━━━━━━━━━━━━━━━\u001b[0m\u001b[37m\u001b[0m \u001b[1m0s\u001b[0m 8ms/step - loss: 0.0071 - val_loss: 2.5100e-04\n",
            "Epoch 24/100\n",
            "\u001b[1m10/10\u001b[0m \u001b[32m━━━━━━━━━━━━━━━━━━━━\u001b[0m\u001b[37m\u001b[0m \u001b[1m0s\u001b[0m 9ms/step - loss: 0.0082 - val_loss: 3.2910e-04\n",
            "Epoch 25/100\n",
            "\u001b[1m10/10\u001b[0m \u001b[32m━━━━━━━━━━━━━━━━━━━━\u001b[0m\u001b[37m\u001b[0m \u001b[1m0s\u001b[0m 8ms/step - loss: 0.0068 - val_loss: 2.5440e-04\n",
            "Epoch 26/100\n",
            "\u001b[1m10/10\u001b[0m \u001b[32m━━━━━━━━━━━━━━━━━━━━\u001b[0m\u001b[37m\u001b[0m \u001b[1m0s\u001b[0m 8ms/step - loss: 0.0091 - val_loss: 2.6006e-04\n",
            "Epoch 27/100\n",
            "\u001b[1m10/10\u001b[0m \u001b[32m━━━━━━━━━━━━━━━━━━━━\u001b[0m\u001b[37m\u001b[0m \u001b[1m0s\u001b[0m 8ms/step - loss: 0.0094 - val_loss: 2.6468e-04\n",
            "Epoch 28/100\n",
            "\u001b[1m10/10\u001b[0m \u001b[32m━━━━━━━━━━━━━━━━━━━━\u001b[0m\u001b[37m\u001b[0m \u001b[1m0s\u001b[0m 8ms/step - loss: 0.0078 - val_loss: 2.9020e-04\n",
            "Epoch 29/100\n",
            "\u001b[1m10/10\u001b[0m \u001b[32m━━━━━━━━━━━━━━━━━━━━\u001b[0m\u001b[37m\u001b[0m \u001b[1m0s\u001b[0m 8ms/step - loss: 0.0048 - val_loss: 2.5227e-04\n",
            "Epoch 30/100\n",
            "\u001b[1m10/10\u001b[0m \u001b[32m━━━━━━━━━━━━━━━━━━━━\u001b[0m\u001b[37m\u001b[0m \u001b[1m0s\u001b[0m 13ms/step - loss: 0.0060 - val_loss: 3.7244e-04\n",
            "Epoch 31/100\n",
            "\u001b[1m10/10\u001b[0m \u001b[32m━━━━━━━━━━━━━━━━━━━━\u001b[0m\u001b[37m\u001b[0m \u001b[1m0s\u001b[0m 13ms/step - loss: 0.0042 - val_loss: 2.5961e-04\n",
            "Epoch 32/100\n",
            "\u001b[1m10/10\u001b[0m \u001b[32m━━━━━━━━━━━━━━━━━━━━\u001b[0m\u001b[37m\u001b[0m \u001b[1m0s\u001b[0m 13ms/step - loss: 0.0062 - val_loss: 3.2680e-04\n",
            "Epoch 33/100\n",
            "\u001b[1m10/10\u001b[0m \u001b[32m━━━━━━━━━━━━━━━━━━━━\u001b[0m\u001b[37m\u001b[0m \u001b[1m0s\u001b[0m 8ms/step - loss: 0.0062 - val_loss: 2.6071e-04\n",
            "Epoch 34/100\n",
            "\u001b[1m10/10\u001b[0m \u001b[32m━━━━━━━━━━━━━━━━━━━━\u001b[0m\u001b[37m\u001b[0m \u001b[1m0s\u001b[0m 8ms/step - loss: 0.0048 - val_loss: 2.9234e-04\n",
            "Epoch 35/100\n",
            "\u001b[1m10/10\u001b[0m \u001b[32m━━━━━━━━━━━━━━━━━━━━\u001b[0m\u001b[37m\u001b[0m \u001b[1m0s\u001b[0m 8ms/step - loss: 0.0070 - val_loss: 2.6174e-04\n",
            "Epoch 36/100\n",
            "\u001b[1m10/10\u001b[0m \u001b[32m━━━━━━━━━━━━━━━━━━━━\u001b[0m\u001b[37m\u001b[0m \u001b[1m0s\u001b[0m 8ms/step - loss: 0.0055 - val_loss: 2.5758e-04\n",
            "Epoch 37/100\n",
            "\u001b[1m10/10\u001b[0m \u001b[32m━━━━━━━━━━━━━━━━━━━━\u001b[0m\u001b[37m\u001b[0m \u001b[1m0s\u001b[0m 8ms/step - loss: 0.0086 - val_loss: 2.8821e-04\n",
            "Epoch 38/100\n",
            "\u001b[1m10/10\u001b[0m \u001b[32m━━━━━━━━━━━━━━━━━━━━\u001b[0m\u001b[37m\u001b[0m \u001b[1m0s\u001b[0m 9ms/step - loss: 0.0060 - val_loss: 2.5847e-04\n",
            "Epoch 39/100\n",
            "\u001b[1m10/10\u001b[0m \u001b[32m━━━━━━━━━━━━━━━━━━━━\u001b[0m\u001b[37m\u001b[0m \u001b[1m0s\u001b[0m 8ms/step - loss: 0.0056 - val_loss: 2.7689e-04\n",
            "Epoch 40/100\n",
            "\u001b[1m10/10\u001b[0m \u001b[32m━━━━━━━━━━━━━━━━━━━━\u001b[0m\u001b[37m\u001b[0m \u001b[1m0s\u001b[0m 9ms/step - loss: 0.0080 - val_loss: 2.5585e-04\n",
            "Epoch 41/100\n",
            "\u001b[1m10/10\u001b[0m \u001b[32m━━━━━━━━━━━━━━━━━━━━\u001b[0m\u001b[37m\u001b[0m \u001b[1m0s\u001b[0m 8ms/step - loss: 0.0059 - val_loss: 3.0880e-04\n",
            "Epoch 42/100\n",
            "\u001b[1m10/10\u001b[0m \u001b[32m━━━━━━━━━━━━━━━━━━━━\u001b[0m\u001b[37m\u001b[0m \u001b[1m0s\u001b[0m 8ms/step - loss: 0.0035 - val_loss: 2.5887e-04\n",
            "Epoch 43/100\n",
            "\u001b[1m10/10\u001b[0m \u001b[32m━━━━━━━━━━━━━━━━━━━━\u001b[0m\u001b[37m\u001b[0m \u001b[1m0s\u001b[0m 8ms/step - loss: 0.0049 - val_loss: 4.0829e-04\n",
            "Epoch 44/100\n",
            "\u001b[1m10/10\u001b[0m \u001b[32m━━━━━━━━━━━━━━━━━━━━\u001b[0m\u001b[37m\u001b[0m \u001b[1m0s\u001b[0m 8ms/step - loss: 0.0060 - val_loss: 2.6108e-04\n",
            "Epoch 45/100\n",
            "\u001b[1m10/10\u001b[0m \u001b[32m━━━━━━━━━━━━━━━━━━━━\u001b[0m\u001b[37m\u001b[0m \u001b[1m0s\u001b[0m 13ms/step - loss: 0.0043 - val_loss: 3.1836e-04\n",
            "Epoch 46/100\n",
            "\u001b[1m10/10\u001b[0m \u001b[32m━━━━━━━━━━━━━━━━━━━━\u001b[0m\u001b[37m\u001b[0m \u001b[1m0s\u001b[0m 10ms/step - loss: 0.0064 - val_loss: 2.7647e-04\n",
            "Epoch 47/100\n",
            "\u001b[1m10/10\u001b[0m \u001b[32m━━━━━━━━━━━━━━━━━━━━\u001b[0m\u001b[37m\u001b[0m \u001b[1m0s\u001b[0m 9ms/step - loss: 0.0044 - val_loss: 2.8237e-04\n",
            "Epoch 48/100\n",
            "\u001b[1m10/10\u001b[0m \u001b[32m━━━━━━━━━━━━━━━━━━━━\u001b[0m\u001b[37m\u001b[0m \u001b[1m0s\u001b[0m 8ms/step - loss: 0.0082 - val_loss: 2.7624e-04\n",
            "Epoch 49/100\n",
            "\u001b[1m10/10\u001b[0m \u001b[32m━━━━━━━━━━━━━━━━━━━━\u001b[0m\u001b[37m\u001b[0m \u001b[1m0s\u001b[0m 8ms/step - loss: 0.0088 - val_loss: 2.5841e-04\n",
            "Epoch 50/100\n",
            "\u001b[1m10/10\u001b[0m \u001b[32m━━━━━━━━━━━━━━━━━━━━\u001b[0m\u001b[37m\u001b[0m \u001b[1m0s\u001b[0m 8ms/step - loss: 0.0054 - val_loss: 2.9407e-04\n",
            "Epoch 51/100\n",
            "\u001b[1m10/10\u001b[0m \u001b[32m━━━━━━━━━━━━━━━━━━━━\u001b[0m\u001b[37m\u001b[0m \u001b[1m0s\u001b[0m 9ms/step - loss: 0.0048 - val_loss: 2.6974e-04\n",
            "Epoch 52/100\n",
            "\u001b[1m10/10\u001b[0m \u001b[32m━━━━━━━━━━━━━━━━━━━━\u001b[0m\u001b[37m\u001b[0m \u001b[1m0s\u001b[0m 8ms/step - loss: 0.0049 - val_loss: 2.6888e-04\n",
            "Epoch 53/100\n",
            "\u001b[1m10/10\u001b[0m \u001b[32m━━━━━━━━━━━━━━━━━━━━\u001b[0m\u001b[37m\u001b[0m \u001b[1m0s\u001b[0m 9ms/step - loss: 0.0047 - val_loss: 3.0140e-04\n",
            "Epoch 54/100\n",
            "\u001b[1m10/10\u001b[0m \u001b[32m━━━━━━━━━━━━━━━━━━━━\u001b[0m\u001b[37m\u001b[0m \u001b[1m0s\u001b[0m 9ms/step - loss: 0.0040 - val_loss: 2.6276e-04\n",
            "Epoch 55/100\n",
            "\u001b[1m10/10\u001b[0m \u001b[32m━━━━━━━━━━━━━━━━━━━━\u001b[0m\u001b[37m\u001b[0m \u001b[1m0s\u001b[0m 9ms/step - loss: 0.0072 - val_loss: 2.6425e-04\n",
            "Epoch 56/100\n",
            "\u001b[1m10/10\u001b[0m \u001b[32m━━━━━━━━━━━━━━━━━━━━\u001b[0m\u001b[37m\u001b[0m \u001b[1m0s\u001b[0m 8ms/step - loss: 0.0042 - val_loss: 3.1568e-04\n",
            "Epoch 57/100\n",
            "\u001b[1m10/10\u001b[0m \u001b[32m━━━━━━━━━━━━━━━━━━━━\u001b[0m\u001b[37m\u001b[0m \u001b[1m0s\u001b[0m 8ms/step - loss: 0.0031 - val_loss: 2.6964e-04\n",
            "Epoch 58/100\n",
            "\u001b[1m10/10\u001b[0m \u001b[32m━━━━━━━━━━━━━━━━━━━━\u001b[0m\u001b[37m\u001b[0m \u001b[1m0s\u001b[0m 8ms/step - loss: 0.0052 - val_loss: 2.7642e-04\n",
            "Epoch 59/100\n",
            "\u001b[1m10/10\u001b[0m \u001b[32m━━━━━━━━━━━━━━━━━━━━\u001b[0m\u001b[37m\u001b[0m \u001b[1m0s\u001b[0m 8ms/step - loss: 0.0045 - val_loss: 2.6431e-04\n",
            "Epoch 60/100\n",
            "\u001b[1m10/10\u001b[0m \u001b[32m━━━━━━━━━━━━━━━━━━━━\u001b[0m\u001b[37m\u001b[0m \u001b[1m0s\u001b[0m 8ms/step - loss: 0.0058 - val_loss: 2.6505e-04\n",
            "Epoch 61/100\n",
            "\u001b[1m10/10\u001b[0m \u001b[32m━━━━━━━━━━━━━━━━━━━━\u001b[0m\u001b[37m\u001b[0m \u001b[1m0s\u001b[0m 9ms/step - loss: 0.0044 - val_loss: 2.7377e-04\n",
            "Epoch 62/100\n",
            "\u001b[1m10/10\u001b[0m \u001b[32m━━━━━━━━━━━━━━━━━━━━\u001b[0m\u001b[37m\u001b[0m \u001b[1m0s\u001b[0m 11ms/step - loss: 0.0049 - val_loss: 2.9052e-04\n",
            "Epoch 63/100\n",
            "\u001b[1m10/10\u001b[0m \u001b[32m━━━━━━━━━━━━━━━━━━━━\u001b[0m\u001b[37m\u001b[0m \u001b[1m0s\u001b[0m 13ms/step - loss: 0.0077 - val_loss: 2.6994e-04\n",
            "Epoch 64/100\n",
            "\u001b[1m10/10\u001b[0m \u001b[32m━━━━━━━━━━━━━━━━━━━━\u001b[0m\u001b[37m\u001b[0m \u001b[1m0s\u001b[0m 9ms/step - loss: 0.0075 - val_loss: 2.6347e-04\n",
            "Epoch 65/100\n",
            "\u001b[1m10/10\u001b[0m \u001b[32m━━━━━━━━━━━━━━━━━━━━\u001b[0m\u001b[37m\u001b[0m \u001b[1m0s\u001b[0m 13ms/step - loss: 0.0050 - val_loss: 2.9654e-04\n",
            "Epoch 66/100\n",
            "\u001b[1m10/10\u001b[0m \u001b[32m━━━━━━━━━━━━━━━━━━━━\u001b[0m\u001b[37m\u001b[0m \u001b[1m0s\u001b[0m 8ms/step - loss: 0.0076 - val_loss: 2.6696e-04\n",
            "Epoch 67/100\n",
            "\u001b[1m10/10\u001b[0m \u001b[32m━━━━━━━━━━━━━━━━━━━━\u001b[0m\u001b[37m\u001b[0m \u001b[1m0s\u001b[0m 13ms/step - loss: 0.0040 - val_loss: 3.0197e-04\n",
            "Epoch 68/100\n",
            "\u001b[1m10/10\u001b[0m \u001b[32m━━━━━━━━━━━━━━━━━━━━\u001b[0m\u001b[37m\u001b[0m \u001b[1m0s\u001b[0m 13ms/step - loss: 0.0043 - val_loss: 2.9160e-04\n",
            "Epoch 69/100\n",
            "\u001b[1m10/10\u001b[0m \u001b[32m━━━━━━━━━━━━━━━━━━━━\u001b[0m\u001b[37m\u001b[0m \u001b[1m0s\u001b[0m 9ms/step - loss: 0.0030 - val_loss: 2.7035e-04\n",
            "Epoch 70/100\n",
            "\u001b[1m10/10\u001b[0m \u001b[32m━━━━━━━━━━━━━━━━━━━━\u001b[0m\u001b[37m\u001b[0m \u001b[1m0s\u001b[0m 8ms/step - loss: 0.0032 - val_loss: 2.8212e-04\n",
            "Epoch 71/100\n",
            "\u001b[1m10/10\u001b[0m \u001b[32m━━━━━━━━━━━━━━━━━━━━\u001b[0m\u001b[37m\u001b[0m \u001b[1m0s\u001b[0m 8ms/step - loss: 0.0056 - val_loss: 2.6961e-04\n",
            "Epoch 72/100\n",
            "\u001b[1m10/10\u001b[0m \u001b[32m━━━━━━━━━━━━━━━━━━━━\u001b[0m\u001b[37m\u001b[0m \u001b[1m0s\u001b[0m 8ms/step - loss: 0.0034 - val_loss: 2.7314e-04\n",
            "Epoch 73/100\n",
            "\u001b[1m10/10\u001b[0m \u001b[32m━━━━━━━━━━━━━━━━━━━━\u001b[0m\u001b[37m\u001b[0m \u001b[1m0s\u001b[0m 8ms/step - loss: 0.0040 - val_loss: 2.9121e-04\n",
            "Epoch 74/100\n",
            "\u001b[1m10/10\u001b[0m \u001b[32m━━━━━━━━━━━━━━━━━━━━\u001b[0m\u001b[37m\u001b[0m \u001b[1m0s\u001b[0m 12ms/step - loss: 0.0061 - val_loss: 2.6994e-04\n",
            "Epoch 75/100\n",
            "\u001b[1m10/10\u001b[0m \u001b[32m━━━━━━━━━━━━━━━━━━━━\u001b[0m\u001b[37m\u001b[0m \u001b[1m0s\u001b[0m 9ms/step - loss: 0.0033 - val_loss: 2.8455e-04\n",
            "Epoch 76/100\n",
            "\u001b[1m10/10\u001b[0m \u001b[32m━━━━━━━━━━━━━━━━━━━━\u001b[0m\u001b[37m\u001b[0m \u001b[1m0s\u001b[0m 8ms/step - loss: 0.0034 - val_loss: 2.6546e-04\n",
            "Epoch 77/100\n",
            "\u001b[1m10/10\u001b[0m \u001b[32m━━━━━━━━━━━━━━━━━━━━\u001b[0m\u001b[37m\u001b[0m \u001b[1m0s\u001b[0m 8ms/step - loss: 0.0073 - val_loss: 2.6788e-04\n",
            "Epoch 78/100\n",
            "\u001b[1m10/10\u001b[0m \u001b[32m━━━━━━━━━━━━━━━━━━━━\u001b[0m\u001b[37m\u001b[0m \u001b[1m0s\u001b[0m 8ms/step - loss: 0.0038 - val_loss: 2.8058e-04\n",
            "Epoch 79/100\n",
            "\u001b[1m10/10\u001b[0m \u001b[32m━━━━━━━━━━━━━━━━━━━━\u001b[0m\u001b[37m\u001b[0m \u001b[1m0s\u001b[0m 10ms/step - loss: 0.0037 - val_loss: 2.7527e-04\n",
            "Epoch 80/100\n",
            "\u001b[1m10/10\u001b[0m \u001b[32m━━━━━━━━━━━━━━━━━━━━\u001b[0m\u001b[37m\u001b[0m \u001b[1m0s\u001b[0m 8ms/step - loss: 0.0054 - val_loss: 2.6629e-04\n",
            "Epoch 81/100\n",
            "\u001b[1m10/10\u001b[0m \u001b[32m━━━━━━━━━━━━━━━━━━━━\u001b[0m\u001b[37m\u001b[0m \u001b[1m0s\u001b[0m 8ms/step - loss: 0.0038 - val_loss: 2.7671e-04\n",
            "Epoch 82/100\n",
            "\u001b[1m10/10\u001b[0m \u001b[32m━━━━━━━━━━━━━━━━━━━━\u001b[0m\u001b[37m\u001b[0m \u001b[1m0s\u001b[0m 8ms/step - loss: 0.0049 - val_loss: 2.7802e-04\n",
            "Epoch 83/100\n",
            "\u001b[1m10/10\u001b[0m \u001b[32m━━━━━━━━━━━━━━━━━━━━\u001b[0m\u001b[37m\u001b[0m \u001b[1m0s\u001b[0m 9ms/step - loss: 0.0044 - val_loss: 2.7620e-04\n",
            "Epoch 84/100\n",
            "\u001b[1m10/10\u001b[0m \u001b[32m━━━━━━━━━━━━━━━━━━━━\u001b[0m\u001b[37m\u001b[0m \u001b[1m0s\u001b[0m 8ms/step - loss: 0.0046 - val_loss: 2.7304e-04\n",
            "Epoch 85/100\n",
            "\u001b[1m10/10\u001b[0m \u001b[32m━━━━━━━━━━━━━━━━━━━━\u001b[0m\u001b[37m\u001b[0m \u001b[1m0s\u001b[0m 9ms/step - loss: 0.0036 - val_loss: 2.7002e-04\n",
            "Epoch 86/100\n",
            "\u001b[1m10/10\u001b[0m \u001b[32m━━━━━━━━━━━━━━━━━━━━\u001b[0m\u001b[37m\u001b[0m \u001b[1m0s\u001b[0m 9ms/step - loss: 0.0036 - val_loss: 2.7158e-04\n",
            "Epoch 87/100\n",
            "\u001b[1m10/10\u001b[0m \u001b[32m━━━━━━━━━━━━━━━━━━━━\u001b[0m\u001b[37m\u001b[0m \u001b[1m0s\u001b[0m 10ms/step - loss: 0.0026 - val_loss: 3.1925e-04\n",
            "Epoch 88/100\n",
            "\u001b[1m10/10\u001b[0m \u001b[32m━━━━━━━━━━━━━━━━━━━━\u001b[0m\u001b[37m\u001b[0m \u001b[1m0s\u001b[0m 9ms/step - loss: 0.0056 - val_loss: 2.7549e-04\n",
            "Epoch 89/100\n",
            "\u001b[1m10/10\u001b[0m \u001b[32m━━━━━━━━━━━━━━━━━━━━\u001b[0m\u001b[37m\u001b[0m \u001b[1m0s\u001b[0m 9ms/step - loss: 0.0049 - val_loss: 2.9265e-04\n",
            "Epoch 90/100\n",
            "\u001b[1m10/10\u001b[0m \u001b[32m━━━━━━━━━━━━━━━━━━━━\u001b[0m\u001b[37m\u001b[0m \u001b[1m0s\u001b[0m 13ms/step - loss: 0.0034 - val_loss: 2.7641e-04\n",
            "Epoch 91/100\n",
            "\u001b[1m10/10\u001b[0m \u001b[32m━━━━━━━━━━━━━━━━━━━━\u001b[0m\u001b[37m\u001b[0m \u001b[1m0s\u001b[0m 16ms/step - loss: 0.0035 - val_loss: 2.9111e-04\n",
            "Epoch 92/100\n",
            "\u001b[1m10/10\u001b[0m \u001b[32m━━━━━━━━━━━━━━━━━━━━\u001b[0m\u001b[37m\u001b[0m \u001b[1m0s\u001b[0m 16ms/step - loss: 0.0041 - val_loss: 2.8167e-04\n",
            "Epoch 93/100\n",
            "\u001b[1m10/10\u001b[0m \u001b[32m━━━━━━━━━━━━━━━━━━━━\u001b[0m\u001b[37m\u001b[0m \u001b[1m0s\u001b[0m 17ms/step - loss: 0.0056 - val_loss: 2.9458e-04\n",
            "Epoch 94/100\n",
            "\u001b[1m10/10\u001b[0m \u001b[32m━━━━━━━━━━━━━━━━━━━━\u001b[0m\u001b[37m\u001b[0m \u001b[1m0s\u001b[0m 15ms/step - loss: 0.0027 - val_loss: 2.8631e-04\n",
            "Epoch 95/100\n",
            "\u001b[1m10/10\u001b[0m \u001b[32m━━━━━━━━━━━━━━━━━━━━\u001b[0m\u001b[37m\u001b[0m \u001b[1m0s\u001b[0m 12ms/step - loss: 0.0046 - val_loss: 2.8958e-04\n",
            "Epoch 96/100\n",
            "\u001b[1m10/10\u001b[0m \u001b[32m━━━━━━━━━━━━━━━━━━━━\u001b[0m\u001b[37m\u001b[0m \u001b[1m0s\u001b[0m 13ms/step - loss: 0.0035 - val_loss: 3.8561e-04\n",
            "Epoch 97/100\n",
            "\u001b[1m10/10\u001b[0m \u001b[32m━━━━━━━━━━━━━━━━━━━━\u001b[0m\u001b[37m\u001b[0m \u001b[1m0s\u001b[0m 17ms/step - loss: 0.0036 - val_loss: 2.8393e-04\n",
            "Epoch 98/100\n",
            "\u001b[1m10/10\u001b[0m \u001b[32m━━━━━━━━━━━━━━━━━━━━\u001b[0m\u001b[37m\u001b[0m \u001b[1m0s\u001b[0m 17ms/step - loss: 0.0037 - val_loss: 2.9898e-04\n",
            "Epoch 99/100\n",
            "\u001b[1m10/10\u001b[0m \u001b[32m━━━━━━━━━━━━━━━━━━━━\u001b[0m\u001b[37m\u001b[0m \u001b[1m0s\u001b[0m 8ms/step - loss: 0.0029 - val_loss: 2.7167e-04\n",
            "Epoch 100/100\n",
            "\u001b[1m10/10\u001b[0m \u001b[32m━━━━━━━━━━━━━━━━━━━━\u001b[0m\u001b[37m\u001b[0m \u001b[1m0s\u001b[0m 9ms/step - loss: 0.0038 - val_loss: 2.8666e-04\n",
            "\u001b[1m4/4\u001b[0m \u001b[32m━━━━━━━━━━━━━━━━━━━━\u001b[0m\u001b[37m\u001b[0m \u001b[1m0s\u001b[0m 21ms/step\n"
          ]
        }
      ]
    },
    {
      "cell_type": "code",
      "source": [
        "def plot_predictions(test, predicted, dates):\n",
        "    plt.plot(dates, test, color=\"gray\", label=\"Rzeczywista inflacja\")\n",
        "    plt.plot(dates, predicted, color=\"red\", label=\"Przewidywana inflacja\")\n",
        "    plt.title(\"Przewidywanie inflacji\")\n",
        "    plt.xlabel(\"Czas\")\n",
        "    plt.ylabel(\"Wskaźnik inflacji\")\n",
        "    plt.legend()\n",
        "    plt.xticks(rotation=45)\n",
        "    plt.tight_layout()\n",
        "    plt.show()"
      ],
      "metadata": {
        "id": "RUHKPGmYf55N"
      },
      "execution_count": 27,
      "outputs": []
    },
    {
      "cell_type": "code",
      "source": [
        "# # Generowanie dat dla osi X\n",
        "# dates_test = [f\"{int(data_array_filtered[i][0])}-{int(data_array_filtered[i][1]):02d}\"\n",
        "#               for i in range(x_len + szerokosc_okna + 2, len(data_array_filtered))]\n",
        "# plot_predictions(y_test, predicted_inflation, dates_test)\n",
        "\n",
        "x_dates_test = np.arange(len(y_test))\n",
        "x_dates_pred = np.arange(len(predicted_inflation))\n",
        "\n",
        "plt.plot(x_dates_test, y_test, color=\"gray\", label=\"Rzeczywista inflacja\")\n",
        "plt.plot(x_dates_pred, predicted_inflation, color=\"red\", label=\"Przewidywana inflacja\")\n",
        "plt.title(\"Przewidywanie inflacji\")\n",
        "plt.xlabel(\"Czas\")\n",
        "plt.ylabel(\"Wskaźnik inflacji\")\n",
        "plt.legend()\n",
        "plt.tight_layout()\n",
        "plt.show()\n"
      ],
      "metadata": {
        "colab": {
          "base_uri": "https://localhost:8080/",
          "height": 487
        },
        "id": "if4jvGkQgAh3",
        "outputId": "e2fa13a1-7404-45cd-b1b1-9cf26369e6cc"
      },
      "execution_count": 37,
      "outputs": [
        {
          "output_type": "display_data",
          "data": {
            "text/plain": [
              "<Figure size 640x480 with 1 Axes>"
            ],
            "image/png": "[encoded data removed]"
          },
          "metadata": {}
        }
      ]
    },
    {
      "cell_type": "code",
      "source": [],
      "metadata": {
        "id": "Lgf9wPregD68"
      },
      "execution_count": null,
      "outputs": []
    }
  ]
}