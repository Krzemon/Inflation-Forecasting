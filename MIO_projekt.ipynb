{
  "nbformat": 4,
  "nbformat_minor": 0,
  "metadata": {
    "colab": {
      "provenance": []
    },
    "kernelspec": {
      "name": "python3",
      "display_name": "Python 3"
    },
    "language_info": {
      "name": "python"
    }
  },
  "cells": [
    {
      "cell_type": "code",
      "execution_count": null,
      "metadata": {
        "id": "bZJQN6R3bbDP"
      },
      "outputs": [],
      "source": [
        "import numpy as np\n",
        "import pandas as pd"
      ]
    },
    {
      "cell_type": "markdown",
      "source": [
        "https://stat.gov.pl/obszary-tematyczne/ceny-handel/wskazniki-cen/wskazniki-cen-towarow-i-uslug-konsumpcyjnych-pot-inflacja-/miesieczne-wskazniki-cen-towarow-i-uslug-konsumpcyjnych-od-1982-roku/"
      ],
      "metadata": {
        "id": "IfPSxhWMcVpm"
      }
    },
    {
      "cell_type": "code",
      "source": [
        "### Załadowanie dysku\n",
        "from google.colab import drive\n",
        "drive.mount('/content/drive')"
      ],
      "metadata": {
        "colab": {
          "base_uri": "https://localhost:8080/"
        },
        "id": "M_3ef9G9cWGr",
        "outputId": "2354bcff-d48d-4833-87dc-aaf88a94ab5c"
      },
      "execution_count": null,
      "outputs": [
        {
          "output_type": "stream",
          "name": "stdout",
          "text": [
            "Drive already mounted at /content/drive; to attempt to forcibly remount, call drive.mount(\"/content/drive\", force_remount=True).\n",
            "Wczytano dane i przefiltrowano według 'Sposób prezentacji' = 'Poprzedni miesiąc=100'.\n"
          ]
        }
      ]
    },
    {
      "cell_type": "code",
      "source": [
        "### Załadowanie pliku\n",
        "data_file_path = \"/content/drive/My Drive/Colab Notebooks/miesieczne_wskazniki_cen_towarow_i_uslug_konsumpcyjnych_od_1982_roku.xlsx\"\n",
        "try:\n",
        "  df = pd.read_excel(data_file_path)\n",
        "  if \"Sposób prezentacji\" in df.columns:\n",
        "      # Filtrowanie danych\n",
        "      df_poprzedni_miesiac_100 = df[df[\"Sposób prezentacji\"] == \"Poprzedni miesiąc = 100\"].copy()\n",
        "\n",
        "      print(\"Wczytano dane i przefiltrowano według 'Sposób prezentacji' = 'Poprzedni miesiąc=100'.\")\n",
        "  else:\n",
        "      print(\"Kolumna 'Sposób prezentacji' nie została znaleziona w pliku Excel.\")\n",
        "except FileNotFoundError:\n",
        "    print(f\"Błąd: Plik nie znaleziony pod ścieżką {data_file_path}\")\n",
        "except Exception as e:\n",
        "    print(f\"Wystąpił błąd podczas wczytywania pliku: {e}\")"
      ],
      "metadata": {
        "id": "flwuB9BMn-aO"
      },
      "execution_count": null,
      "outputs": []
    },
    {
      "cell_type": "code",
      "source": [
        "### Filtracja danych\n",
        "# TODO: sprawdz co oznacza Flaga 'a' w roku 2000 i 2001\n",
        "#df_poprzedni_miesiac_100[[\"Sposób prezentacji\", \"Rok\", \"Miesiąc\", \"Wartość\", \"Flaga\"]]\n",
        "data = df_poprzedni_miesiac_100[[\"Rok\", \"Miesiąc\", \"Wartość\"]]\n",
        "# pozbywamy się wierszy z wartościami NaN, występujące w roku 2025\n",
        "data = data.dropna(subset=[\"Wartość\"])\n",
        "data = data.sort_values(by=['Rok','Miesiąc'], ascending=[1,1])\n",
        "\n",
        "data_array = data.to_numpy()\n",
        "\n",
        "print(data.head(20))"
      ],
      "metadata": {
        "colab": {
          "base_uri": "https://localhost:8080/"
        },
        "id": "7rfqwWZveh22",
        "outputId": "d60e0d9e-5a69-4459-b410-6bd6abdbe781"
      },
      "execution_count": null,
      "outputs": [
        {
          "output_type": "stream",
          "name": "stdout",
          "text": [
            "       Rok  Miesiąc  Wartość\n",
            "2100  1982        1    106.6\n",
            "2101  1982        2    136.3\n",
            "2102  1982        3    105.8\n",
            "2103  1982        4    103.1\n",
            "2104  1982        5    102.7\n",
            "2105  1982        6    100.9\n",
            "2106  1982        7    103.9\n",
            "2107  1982        8     99.4\n",
            "2108  1982        9    100.3\n",
            "2109  1982       10    101.4\n",
            "2110  1982       11    100.9\n",
            "2111  1982       12    100.8\n",
            "2076  1983        1    101.9\n",
            "2077  1983        2    107.2\n",
            "2078  1983        3    101.9\n",
            "2079  1983        4    103.2\n",
            "2080  1983        5    101.0\n",
            "2081  1983        6     99.5\n",
            "2082  1983        7    100.6\n",
            "2083  1983        8     99.6\n"
          ]
        }
      ]
    },
    {
      "cell_type": "code",
      "source": [
        "# inclacja - gdy \"Wartość\" > 100\n",
        "# deflacja - gdy \"Wartość\" < 100\n",
        "# kolumna 0, rok\n",
        "# kolumna 1, miesiąc\n",
        "# kolumna 2, wartość względem grudnia 1986\n",
        "data_len = len(data)\n",
        "data_array_absolute = np.zeros((len(data), 3))\n",
        "absolute_result = 1.0\n",
        "idx = 0\n",
        "for row in data_array:\n",
        "  absolute_result = absolute_result + absolute_result * ((float(row[2])-100.0) / 100.0)\n",
        "  # można zliczać zamiast miesiąca i roku, to zliczać kolejne miesiące od stycznia 1987\n",
        "  data_array_absolute[idx] = [int(row[0]), int(row[1]), absolute_result]\n",
        "  idx += 1"
      ],
      "metadata": {
        "id": "gF4k3Kbmv2QI"
      },
      "execution_count": null,
      "outputs": []
    },
    {
      "cell_type": "code",
      "source": [
        "print(data_array_absolute)"
      ],
      "metadata": {
        "colab": {
          "base_uri": "https://localhost:8080/"
        },
        "id": "gWsHa5jFxbAh",
        "outputId": "7ae4298d-6454-4f50-80e3-263a461ab9ba"
      },
      "execution_count": null,
      "outputs": [
        {
          "output_type": "stream",
          "name": "stdout",
          "text": [
            "[[1.98200000e+03 1.00000000e+00 1.06600000e+00]\n",
            " [1.98200000e+03 2.00000000e+00 1.45295800e+00]\n",
            " [1.98200000e+03 3.00000000e+00 1.53722956e+00]\n",
            " ...\n",
            " [2.02500000e+03 2.00000000e+00 3.59096204e+03]\n",
            " [2.02500000e+03 3.00000000e+00 3.59814396e+03]\n",
            " [2.02500000e+03 4.00000000e+00 3.61253654e+03]]\n"
          ]
        }
      ]
    }
  ]
}